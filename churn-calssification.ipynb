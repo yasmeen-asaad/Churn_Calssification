{
 "cells": [
  {
   "cell_type": "code",
   "execution_count": 1,
   "id": "85c8effd",
   "metadata": {
    "execution": {
     "iopub.execute_input": "2021-10-23T00:29:20.108633Z",
     "iopub.status.busy": "2021-10-23T00:29:20.107920Z",
     "iopub.status.idle": "2021-10-23T00:29:26.673181Z",
     "shell.execute_reply": "2021-10-23T00:29:26.672480Z",
     "shell.execute_reply.started": "2021-10-23T00:22:58.528031Z"
    },
    "papermill": {
     "duration": 6.641939,
     "end_time": "2021-10-23T00:29:26.673384",
     "exception": false,
     "start_time": "2021-10-23T00:29:20.031445",
     "status": "completed"
    },
    "tags": []
   },
   "outputs": [],
   "source": [
    "import pandas as pd \n",
    "import numpy as np\n",
    "\n",
    "import matplotlib.pyplot as plt\n",
    "import seaborn as sns\n",
    "\n",
    "from sklearn.preprocessing import LabelEncoder\n",
    "from sklearn.preprocessing import StandardScaler\n",
    "\n",
    "from sklearn.model_selection import train_test_split\n",
    "import tensorflow as tf\n",
    "from tensorflow import keras\n",
    "from tensorflow.keras import layers\n",
    "\n",
    "np.random.seed(10)"
   ]
  },
  {
   "cell_type": "code",
   "execution_count": 2,
   "id": "daec755f",
   "metadata": {
    "execution": {
     "iopub.execute_input": "2021-10-23T00:29:26.800433Z",
     "iopub.status.busy": "2021-10-23T00:29:26.799618Z",
     "iopub.status.idle": "2021-10-23T00:29:26.842737Z",
     "shell.execute_reply": "2021-10-23T00:29:26.843252Z",
     "shell.execute_reply.started": "2021-10-23T00:22:58.536548Z"
    },
    "papermill": {
     "duration": 0.108894,
     "end_time": "2021-10-23T00:29:26.843453",
     "exception": false,
     "start_time": "2021-10-23T00:29:26.734559",
     "status": "completed"
    },
    "tags": []
   },
   "outputs": [],
   "source": [
    "churn_df = pd.read_csv('../input/churn-modelling/Churn_Modelling.csv')"
   ]
  },
  {
   "cell_type": "markdown",
   "id": "63410ee1",
   "metadata": {
    "papermill": {
     "duration": 0.059791,
     "end_time": "2021-10-23T00:29:26.963715",
     "exception": false,
     "start_time": "2021-10-23T00:29:26.903924",
     "status": "completed"
    },
    "tags": []
   },
   "source": [
    "# EDA "
   ]
  },
  {
   "cell_type": "code",
   "execution_count": 3,
   "id": "2665818c",
   "metadata": {
    "execution": {
     "iopub.execute_input": "2021-10-23T00:29:27.088963Z",
     "iopub.status.busy": "2021-10-23T00:29:27.087942Z",
     "iopub.status.idle": "2021-10-23T00:29:27.111904Z",
     "shell.execute_reply": "2021-10-23T00:29:27.112423Z",
     "shell.execute_reply.started": "2021-10-23T00:22:58.582445Z"
    },
    "papermill": {
     "duration": 0.088661,
     "end_time": "2021-10-23T00:29:27.112595",
     "exception": false,
     "start_time": "2021-10-23T00:29:27.023934",
     "status": "completed"
    },
    "tags": []
   },
   "outputs": [
    {
     "data": {
      "text/html": [
       "<div>\n",
       "<style scoped>\n",
       "    .dataframe tbody tr th:only-of-type {\n",
       "        vertical-align: middle;\n",
       "    }\n",
       "\n",
       "    .dataframe tbody tr th {\n",
       "        vertical-align: top;\n",
       "    }\n",
       "\n",
       "    .dataframe thead th {\n",
       "        text-align: right;\n",
       "    }\n",
       "</style>\n",
       "<table border=\"1\" class=\"dataframe\">\n",
       "  <thead>\n",
       "    <tr style=\"text-align: right;\">\n",
       "      <th></th>\n",
       "      <th>RowNumber</th>\n",
       "      <th>CustomerId</th>\n",
       "      <th>Surname</th>\n",
       "      <th>CreditScore</th>\n",
       "      <th>Geography</th>\n",
       "      <th>Gender</th>\n",
       "      <th>Age</th>\n",
       "      <th>Tenure</th>\n",
       "      <th>Balance</th>\n",
       "      <th>NumOfProducts</th>\n",
       "      <th>HasCrCard</th>\n",
       "      <th>IsActiveMember</th>\n",
       "      <th>EstimatedSalary</th>\n",
       "      <th>Exited</th>\n",
       "    </tr>\n",
       "  </thead>\n",
       "  <tbody>\n",
       "    <tr>\n",
       "      <th>0</th>\n",
       "      <td>1</td>\n",
       "      <td>15634602</td>\n",
       "      <td>Hargrave</td>\n",
       "      <td>619</td>\n",
       "      <td>France</td>\n",
       "      <td>Female</td>\n",
       "      <td>42</td>\n",
       "      <td>2</td>\n",
       "      <td>0.00</td>\n",
       "      <td>1</td>\n",
       "      <td>1</td>\n",
       "      <td>1</td>\n",
       "      <td>101348.88</td>\n",
       "      <td>1</td>\n",
       "    </tr>\n",
       "    <tr>\n",
       "      <th>1</th>\n",
       "      <td>2</td>\n",
       "      <td>15647311</td>\n",
       "      <td>Hill</td>\n",
       "      <td>608</td>\n",
       "      <td>Spain</td>\n",
       "      <td>Female</td>\n",
       "      <td>41</td>\n",
       "      <td>1</td>\n",
       "      <td>83807.86</td>\n",
       "      <td>1</td>\n",
       "      <td>0</td>\n",
       "      <td>1</td>\n",
       "      <td>112542.58</td>\n",
       "      <td>0</td>\n",
       "    </tr>\n",
       "    <tr>\n",
       "      <th>2</th>\n",
       "      <td>3</td>\n",
       "      <td>15619304</td>\n",
       "      <td>Onio</td>\n",
       "      <td>502</td>\n",
       "      <td>France</td>\n",
       "      <td>Female</td>\n",
       "      <td>42</td>\n",
       "      <td>8</td>\n",
       "      <td>159660.80</td>\n",
       "      <td>3</td>\n",
       "      <td>1</td>\n",
       "      <td>0</td>\n",
       "      <td>113931.57</td>\n",
       "      <td>1</td>\n",
       "    </tr>\n",
       "    <tr>\n",
       "      <th>3</th>\n",
       "      <td>4</td>\n",
       "      <td>15701354</td>\n",
       "      <td>Boni</td>\n",
       "      <td>699</td>\n",
       "      <td>France</td>\n",
       "      <td>Female</td>\n",
       "      <td>39</td>\n",
       "      <td>1</td>\n",
       "      <td>0.00</td>\n",
       "      <td>2</td>\n",
       "      <td>0</td>\n",
       "      <td>0</td>\n",
       "      <td>93826.63</td>\n",
       "      <td>0</td>\n",
       "    </tr>\n",
       "    <tr>\n",
       "      <th>4</th>\n",
       "      <td>5</td>\n",
       "      <td>15737888</td>\n",
       "      <td>Mitchell</td>\n",
       "      <td>850</td>\n",
       "      <td>Spain</td>\n",
       "      <td>Female</td>\n",
       "      <td>43</td>\n",
       "      <td>2</td>\n",
       "      <td>125510.82</td>\n",
       "      <td>1</td>\n",
       "      <td>1</td>\n",
       "      <td>1</td>\n",
       "      <td>79084.10</td>\n",
       "      <td>0</td>\n",
       "    </tr>\n",
       "  </tbody>\n",
       "</table>\n",
       "</div>"
      ],
      "text/plain": [
       "   RowNumber  CustomerId   Surname  CreditScore Geography  Gender  Age  \\\n",
       "0          1    15634602  Hargrave          619    France  Female   42   \n",
       "1          2    15647311      Hill          608     Spain  Female   41   \n",
       "2          3    15619304      Onio          502    France  Female   42   \n",
       "3          4    15701354      Boni          699    France  Female   39   \n",
       "4          5    15737888  Mitchell          850     Spain  Female   43   \n",
       "\n",
       "   Tenure    Balance  NumOfProducts  HasCrCard  IsActiveMember  \\\n",
       "0       2       0.00              1          1               1   \n",
       "1       1   83807.86              1          0               1   \n",
       "2       8  159660.80              3          1               0   \n",
       "3       1       0.00              2          0               0   \n",
       "4       2  125510.82              1          1               1   \n",
       "\n",
       "   EstimatedSalary  Exited  \n",
       "0        101348.88       1  \n",
       "1        112542.58       0  \n",
       "2        113931.57       1  \n",
       "3         93826.63       0  \n",
       "4         79084.10       0  "
      ]
     },
     "execution_count": 3,
     "metadata": {},
     "output_type": "execute_result"
    }
   ],
   "source": [
    "churn_df.head()"
   ]
  },
  {
   "cell_type": "code",
   "execution_count": 4,
   "id": "4f4e3863",
   "metadata": {
    "execution": {
     "iopub.execute_input": "2021-10-23T00:29:27.299273Z",
     "iopub.status.busy": "2021-10-23T00:29:27.298299Z",
     "iopub.status.idle": "2021-10-23T00:29:27.323630Z",
     "shell.execute_reply": "2021-10-23T00:29:27.324193Z",
     "shell.execute_reply.started": "2021-10-23T00:22:58.600482Z"
    },
    "papermill": {
     "duration": 0.089789,
     "end_time": "2021-10-23T00:29:27.324402",
     "exception": false,
     "start_time": "2021-10-23T00:29:27.234613",
     "status": "completed"
    },
    "tags": []
   },
   "outputs": [
    {
     "name": "stdout",
     "output_type": "stream",
     "text": [
      "<class 'pandas.core.frame.DataFrame'>\n",
      "RangeIndex: 10000 entries, 0 to 9999\n",
      "Data columns (total 14 columns):\n",
      " #   Column           Non-Null Count  Dtype  \n",
      "---  ------           --------------  -----  \n",
      " 0   RowNumber        10000 non-null  int64  \n",
      " 1   CustomerId       10000 non-null  int64  \n",
      " 2   Surname          10000 non-null  object \n",
      " 3   CreditScore      10000 non-null  int64  \n",
      " 4   Geography        10000 non-null  object \n",
      " 5   Gender           10000 non-null  object \n",
      " 6   Age              10000 non-null  int64  \n",
      " 7   Tenure           10000 non-null  int64  \n",
      " 8   Balance          10000 non-null  float64\n",
      " 9   NumOfProducts    10000 non-null  int64  \n",
      " 10  HasCrCard        10000 non-null  int64  \n",
      " 11  IsActiveMember   10000 non-null  int64  \n",
      " 12  EstimatedSalary  10000 non-null  float64\n",
      " 13  Exited           10000 non-null  int64  \n",
      "dtypes: float64(2), int64(9), object(3)\n",
      "memory usage: 1.1+ MB\n"
     ]
    }
   ],
   "source": [
    "churn_df.info()"
   ]
  },
  {
   "cell_type": "markdown",
   "id": "6f5a5c42",
   "metadata": {
    "papermill": {
     "duration": 0.061033,
     "end_time": "2021-10-23T00:29:27.446511",
     "exception": false,
     "start_time": "2021-10-23T00:29:27.385478",
     "status": "completed"
    },
    "tags": []
   },
   "source": [
    "There're no null values <br>\n",
    "We can drop RowNumber, Surname columns <br>"
   ]
  },
  {
   "cell_type": "code",
   "execution_count": 5,
   "id": "a9fc51b1",
   "metadata": {
    "execution": {
     "iopub.execute_input": "2021-10-23T00:29:27.574098Z",
     "iopub.status.busy": "2021-10-23T00:29:27.573119Z",
     "iopub.status.idle": "2021-10-23T00:29:27.592091Z",
     "shell.execute_reply": "2021-10-23T00:29:27.592648Z",
     "shell.execute_reply.started": "2021-10-23T00:22:58.627483Z"
    },
    "papermill": {
     "duration": 0.084996,
     "end_time": "2021-10-23T00:29:27.592829",
     "exception": false,
     "start_time": "2021-10-23T00:29:27.507833",
     "status": "completed"
    },
    "tags": []
   },
   "outputs": [
    {
     "data": {
      "text/plain": [
       "0"
      ]
     },
     "execution_count": 5,
     "metadata": {},
     "output_type": "execute_result"
    }
   ],
   "source": [
    "churn_df.duplicated().sum()"
   ]
  },
  {
   "cell_type": "markdown",
   "id": "0a1091c7",
   "metadata": {
    "papermill": {
     "duration": 0.061329,
     "end_time": "2021-10-23T00:29:27.715388",
     "exception": false,
     "start_time": "2021-10-23T00:29:27.654059",
     "status": "completed"
    },
    "tags": []
   },
   "source": [
    "### Explore CreditScore Column <br>\n",
    "Higher credit scores mean you have demonstrated responsible credit behavior in the past, which may make potential lenders & <br> creditors more confident when evaluating a request for credit <br>\n",
    "under 580  are considered bad  <br>\n",
    "580 to 669 are considered fair; <br>\n",
    "670 and up are considered good; <br>"
   ]
  },
  {
   "cell_type": "code",
   "execution_count": 6,
   "id": "1b3f3e11",
   "metadata": {
    "execution": {
     "iopub.execute_input": "2021-10-23T00:29:27.842968Z",
     "iopub.status.busy": "2021-10-23T00:29:27.841947Z",
     "iopub.status.idle": "2021-10-23T00:29:28.039539Z",
     "shell.execute_reply": "2021-10-23T00:29:28.040064Z",
     "shell.execute_reply.started": "2021-10-23T00:22:58.647096Z"
    },
    "papermill": {
     "duration": 0.263468,
     "end_time": "2021-10-23T00:29:28.040253",
     "exception": false,
     "start_time": "2021-10-23T00:29:27.776785",
     "status": "completed"
    },
    "tags": []
   },
   "outputs": [
    {
     "data": {
      "image/png": "[encoded data removed]",
      "text/plain": [
       "<Figure size 432x288 with 1 Axes>"
      ]
     },
     "metadata": {
      "needs_background": "light"
     },
     "output_type": "display_data"
    }
   ],
   "source": [
    "sns.boxplot(x=\"CreditScore\", data=churn_df);"
   ]
  },
  {
   "cell_type": "code",
   "execution_count": 7,
   "id": "36e849f0",
   "metadata": {
    "execution": {
     "iopub.execute_input": "2021-10-23T00:29:28.173015Z",
     "iopub.status.busy": "2021-10-23T00:29:28.172195Z",
     "iopub.status.idle": "2021-10-23T00:29:28.175748Z",
     "shell.execute_reply": "2021-10-23T00:29:28.176358Z",
     "shell.execute_reply.started": "2021-10-23T00:22:58.829298Z"
    },
    "papermill": {
     "duration": 0.074204,
     "end_time": "2021-10-23T00:29:28.176530",
     "exception": false,
     "start_time": "2021-10-23T00:29:28.102326",
     "status": "completed"
    },
    "tags": []
   },
   "outputs": [],
   "source": [
    "scoreless580 = churn_df[\"CreditScore\"] < 580\n",
    "scoreless669 = (churn_df[\"CreditScore\"] >= 580) & (churn_df[\"CreditScore\"] <= 669)\n",
    "scoremore670 = churn_df[\"CreditScore\"] >= 670\n",
    "\n",
    "churn_df[\"score_cat\"] = 0\n",
    "churn_df.loc[scoreless669, \"score_cat\"] = 1\n",
    "churn_df.loc[scoremore670, \"score_cat\"] = 2"
   ]
  },
  {
   "cell_type": "code",
   "execution_count": 8,
   "id": "e86a96f7",
   "metadata": {
    "execution": {
     "iopub.execute_input": "2021-10-23T00:29:28.305348Z",
     "iopub.status.busy": "2021-10-23T00:29:28.304285Z",
     "iopub.status.idle": "2021-10-23T00:29:28.309528Z",
     "shell.execute_reply": "2021-10-23T00:29:28.310091Z",
     "shell.execute_reply.started": "2021-10-23T00:22:58.843874Z"
    },
    "papermill": {
     "duration": 0.071165,
     "end_time": "2021-10-23T00:29:28.310295",
     "exception": false,
     "start_time": "2021-10-23T00:29:28.239130",
     "status": "completed"
    },
    "tags": []
   },
   "outputs": [],
   "source": [
    "churn_df.loc[scoreless669, \"score_cat\"] = 1\n",
    "churn_df.loc[scoremore670, \"score_cat\"] = 2"
   ]
  },
  {
   "cell_type": "code",
   "execution_count": 9,
   "id": "36aa9514",
   "metadata": {
    "execution": {
     "iopub.execute_input": "2021-10-23T00:29:28.439825Z",
     "iopub.status.busy": "2021-10-23T00:29:28.438870Z",
     "iopub.status.idle": "2021-10-23T00:29:28.445752Z",
     "shell.execute_reply": "2021-10-23T00:29:28.446225Z",
     "shell.execute_reply.started": "2021-10-23T00:22:58.853373Z"
    },
    "papermill": {
     "duration": 0.072282,
     "end_time": "2021-10-23T00:29:28.446392",
     "exception": false,
     "start_time": "2021-10-23T00:29:28.374110",
     "status": "completed"
    },
    "tags": []
   },
   "outputs": [
    {
     "data": {
      "text/plain": [
       "2    4307\n",
       "1    3331\n",
       "0    2362\n",
       "Name: score_cat, dtype: int64"
      ]
     },
     "execution_count": 9,
     "metadata": {},
     "output_type": "execute_result"
    }
   ],
   "source": [
    "churn_df[\"score_cat\"].value_counts()"
   ]
  },
  {
   "cell_type": "code",
   "execution_count": 10,
   "id": "c037c7fd",
   "metadata": {
    "execution": {
     "iopub.execute_input": "2021-10-23T00:29:28.576069Z",
     "iopub.status.busy": "2021-10-23T00:29:28.575100Z",
     "iopub.status.idle": "2021-10-23T00:29:28.808953Z",
     "shell.execute_reply": "2021-10-23T00:29:28.809435Z",
     "shell.execute_reply.started": "2021-10-23T00:22:58.870355Z"
    },
    "papermill": {
     "duration": 0.300864,
     "end_time": "2021-10-23T00:29:28.809613",
     "exception": false,
     "start_time": "2021-10-23T00:29:28.508749",
     "status": "completed"
    },
    "tags": []
   },
   "outputs": [
    {
     "data": {
      "image/png": "[encoded data removed]",
      "text/plain": [
       "<Figure size 432x288 with 1 Axes>"
      ]
     },
     "metadata": {
      "needs_background": "light"
     },
     "output_type": "display_data"
    }
   ],
   "source": [
    "sns.countplot(x=\"score_cat\", hue=\"Exited\", data=churn_df);"
   ]
  },
  {
   "cell_type": "markdown",
   "id": "b6414b23",
   "metadata": {
    "papermill": {
     "duration": 0.062785,
     "end_time": "2021-10-23T00:29:28.935783",
     "exception": false,
     "start_time": "2021-10-23T00:29:28.872998",
     "status": "completed"
    },
    "tags": []
   },
   "source": [
    "Higher score more clint stay with bank "
   ]
  },
  {
   "cell_type": "markdown",
   "id": "ba250318",
   "metadata": {
    "papermill": {
     "duration": 0.063281,
     "end_time": "2021-10-23T00:29:29.062360",
     "exception": false,
     "start_time": "2021-10-23T00:29:28.999079",
     "status": "completed"
    },
    "tags": []
   },
   "source": [
    "### Explore Geography Column <br>\n"
   ]
  },
  {
   "cell_type": "code",
   "execution_count": 11,
   "id": "36420370",
   "metadata": {
    "execution": {
     "iopub.execute_input": "2021-10-23T00:29:29.194318Z",
     "iopub.status.busy": "2021-10-23T00:29:29.193343Z",
     "iopub.status.idle": "2021-10-23T00:29:29.446763Z",
     "shell.execute_reply": "2021-10-23T00:29:29.447308Z",
     "shell.execute_reply.started": "2021-10-23T00:22:59.126343Z"
    },
    "papermill": {
     "duration": 0.320519,
     "end_time": "2021-10-23T00:29:29.447498",
     "exception": false,
     "start_time": "2021-10-23T00:29:29.126979",
     "status": "completed"
    },
    "scrolled": true,
    "tags": []
   },
   "outputs": [
    {
     "data": {
      "image/png": "[encoded data removed]",
      "text/plain": [
       "<Figure size 432x288 with 1 Axes>"
      ]
     },
     "metadata": {
      "needs_background": "light"
     },
     "output_type": "display_data"
    }
   ],
   "source": [
    "sns.countplot(x=\"Geography\", hue=\"Exited\", data=churn_df);"
   ]
  },
  {
   "cell_type": "markdown",
   "id": "056315d5",
   "metadata": {
    "papermill": {
     "duration": 0.065036,
     "end_time": "2021-10-23T00:29:29.577578",
     "exception": false,
     "start_time": "2021-10-23T00:29:29.512542",
     "status": "completed"
    },
    "tags": []
   },
   "source": [
    "It seems that people in France are more like to stay in the bank than others <br>\n",
    "check if this true \n"
   ]
  },
  {
   "cell_type": "code",
   "execution_count": 12,
   "id": "af1b9a5a",
   "metadata": {
    "execution": {
     "iopub.execute_input": "2021-10-23T00:29:29.712318Z",
     "iopub.status.busy": "2021-10-23T00:29:29.711658Z",
     "iopub.status.idle": "2021-10-23T00:29:29.723385Z",
     "shell.execute_reply": "2021-10-23T00:29:29.723843Z",
     "shell.execute_reply.started": "2021-10-23T00:22:59.390109Z"
    },
    "papermill": {
     "duration": 0.081818,
     "end_time": "2021-10-23T00:29:29.724016",
     "exception": false,
     "start_time": "2021-10-23T00:29:29.642198",
     "status": "completed"
    },
    "tags": []
   },
   "outputs": [
    {
     "data": {
      "text/plain": [
       "Geography  Exited\n",
       "France     0         0.4204\n",
       "Spain      0         0.2064\n",
       "Germany    0         0.1695\n",
       "           1         0.0814\n",
       "France     1         0.0810\n",
       "Spain      1         0.0413\n",
       "dtype: float64"
      ]
     },
     "execution_count": 12,
     "metadata": {},
     "output_type": "execute_result"
    }
   ],
   "source": [
    "churn_df[[\"Geography\", \"Exited\"]].value_counts(normalize=True)"
   ]
  },
  {
   "cell_type": "markdown",
   "id": "20149912",
   "metadata": {
    "papermill": {
     "duration": 0.064355,
     "end_time": "2021-10-23T00:29:29.853494",
     "exception": false,
     "start_time": "2021-10-23T00:29:29.789139",
     "status": "completed"
    },
    "tags": []
   },
   "source": [
    "The assumption seems true, but might it because \"Excited\" data is not balanced <br>\n",
    "Check if Exited data is balanced "
   ]
  },
  {
   "cell_type": "code",
   "execution_count": 13,
   "id": "e2bcfe51",
   "metadata": {
    "execution": {
     "iopub.execute_input": "2021-10-23T00:29:29.985671Z",
     "iopub.status.busy": "2021-10-23T00:29:29.985019Z",
     "iopub.status.idle": "2021-10-23T00:29:29.992731Z",
     "shell.execute_reply": "2021-10-23T00:29:29.993271Z",
     "shell.execute_reply.started": "2021-10-23T00:22:59.408848Z"
    },
    "papermill": {
     "duration": 0.075998,
     "end_time": "2021-10-23T00:29:29.993433",
     "exception": false,
     "start_time": "2021-10-23T00:29:29.917435",
     "status": "completed"
    },
    "tags": []
   },
   "outputs": [
    {
     "data": {
      "text/plain": [
       "France     0.5014\n",
       "Germany    0.2509\n",
       "Spain      0.2477\n",
       "Name: Geography, dtype: float64"
      ]
     },
     "execution_count": 13,
     "metadata": {},
     "output_type": "execute_result"
    }
   ],
   "source": [
    "churn_df[\"Geography\"].value_counts(normalize=True)"
   ]
  },
  {
   "cell_type": "code",
   "execution_count": 14,
   "id": "bef6a195",
   "metadata": {
    "execution": {
     "iopub.execute_input": "2021-10-23T00:29:30.127104Z",
     "iopub.status.busy": "2021-10-23T00:29:30.126449Z",
     "iopub.status.idle": "2021-10-23T00:29:30.133168Z",
     "shell.execute_reply": "2021-10-23T00:29:30.133789Z",
     "shell.execute_reply.started": "2021-10-23T00:22:59.419903Z"
    },
    "papermill": {
     "duration": 0.075028,
     "end_time": "2021-10-23T00:29:30.133988",
     "exception": false,
     "start_time": "2021-10-23T00:29:30.058960",
     "status": "completed"
    },
    "tags": []
   },
   "outputs": [
    {
     "data": {
      "text/plain": [
       "0    0.7963\n",
       "1    0.2037\n",
       "Name: Exited, dtype: float64"
      ]
     },
     "execution_count": 14,
     "metadata": {},
     "output_type": "execute_result"
    }
   ],
   "source": [
    "churn_df[\"Exited\"].value_counts(normalize=True)"
   ]
  },
  {
   "cell_type": "markdown",
   "id": "b1c87f12",
   "metadata": {
    "papermill": {
     "duration": 0.064886,
     "end_time": "2021-10-23T00:29:30.264326",
     "exception": false,
     "start_time": "2021-10-23T00:29:30.199440",
     "status": "completed"
    },
    "tags": []
   },
   "source": [
    "1- Most of data were collected from France banks so it's not balanced <br>\n",
    "2- \"Excited\" data is not balanced too"
   ]
  },
  {
   "cell_type": "markdown",
   "id": "229c64f6",
   "metadata": {
    "papermill": {
     "duration": 0.065399,
     "end_time": "2021-10-23T00:29:30.397682",
     "exception": false,
     "start_time": "2021-10-23T00:29:30.332283",
     "status": "completed"
    },
    "tags": []
   },
   "source": [
    "### Explore Gender Column <br>\n"
   ]
  },
  {
   "cell_type": "code",
   "execution_count": 15,
   "id": "2ffb37e6",
   "metadata": {
    "execution": {
     "iopub.execute_input": "2021-10-23T00:29:30.531914Z",
     "iopub.status.busy": "2021-10-23T00:29:30.531267Z",
     "iopub.status.idle": "2021-10-23T00:29:30.750228Z",
     "shell.execute_reply": "2021-10-23T00:29:30.750735Z",
     "shell.execute_reply.started": "2021-10-23T00:22:59.430525Z"
    },
    "papermill": {
     "duration": 0.287934,
     "end_time": "2021-10-23T00:29:30.750921",
     "exception": false,
     "start_time": "2021-10-23T00:29:30.462987",
     "status": "completed"
    },
    "tags": []
   },
   "outputs": [
    {
     "data": {
      "image/png": "[encoded data removed]",
      "text/plain": [
       "<Figure size 432x288 with 1 Axes>"
      ]
     },
     "metadata": {
      "needs_background": "light"
     },
     "output_type": "display_data"
    }
   ],
   "source": [
    "sns.countplot(x=\"Gender\", hue=\"Exited\", data=churn_df);"
   ]
  },
  {
   "cell_type": "code",
   "execution_count": 16,
   "id": "157d70d2",
   "metadata": {
    "execution": {
     "iopub.execute_input": "2021-10-23T00:29:30.886541Z",
     "iopub.status.busy": "2021-10-23T00:29:30.885913Z",
     "iopub.status.idle": "2021-10-23T00:29:30.893839Z",
     "shell.execute_reply": "2021-10-23T00:29:30.894358Z",
     "shell.execute_reply.started": "2021-10-23T00:22:59.662143Z"
    },
    "papermill": {
     "duration": 0.077182,
     "end_time": "2021-10-23T00:29:30.894530",
     "exception": false,
     "start_time": "2021-10-23T00:29:30.817348",
     "status": "completed"
    },
    "tags": []
   },
   "outputs": [
    {
     "data": {
      "text/plain": [
       "Male      0.5457\n",
       "Female    0.4543\n",
       "Name: Gender, dtype: float64"
      ]
     },
     "execution_count": 16,
     "metadata": {},
     "output_type": "execute_result"
    }
   ],
   "source": [
    "churn_df[\"Gender\"].value_counts(normalize=True)"
   ]
  },
  {
   "cell_type": "code",
   "execution_count": 17,
   "id": "2759f612",
   "metadata": {
    "execution": {
     "iopub.execute_input": "2021-10-23T00:29:31.030572Z",
     "iopub.status.busy": "2021-10-23T00:29:31.029944Z",
     "iopub.status.idle": "2021-10-23T00:29:31.040797Z",
     "shell.execute_reply": "2021-10-23T00:29:31.041320Z",
     "shell.execute_reply.started": "2021-10-23T00:22:59.674395Z"
    },
    "papermill": {
     "duration": 0.080578,
     "end_time": "2021-10-23T00:29:31.041489",
     "exception": false,
     "start_time": "2021-10-23T00:29:30.960911",
     "status": "completed"
    },
    "tags": []
   },
   "outputs": [
    {
     "data": {
      "text/plain": [
       "Gender  Exited\n",
       "Male    0         0.4559\n",
       "Female  0         0.3404\n",
       "        1         0.1139\n",
       "Male    1         0.0898\n",
       "dtype: float64"
      ]
     },
     "execution_count": 17,
     "metadata": {},
     "output_type": "execute_result"
    }
   ],
   "source": [
    "churn_df[[\"Gender\", \"Exited\"]].value_counts(normalize=True)"
   ]
  },
  {
   "cell_type": "markdown",
   "id": "980395b3",
   "metadata": {
    "papermill": {
     "duration": 0.066145,
     "end_time": "2021-10-23T00:29:31.175470",
     "exception": false,
     "start_time": "2021-10-23T00:29:31.109325",
     "status": "completed"
    },
    "tags": []
   },
   "source": [
    "Males are more likely to stay @ the bank than Females"
   ]
  },
  {
   "cell_type": "markdown",
   "id": "fff8da52",
   "metadata": {
    "papermill": {
     "duration": 0.067183,
     "end_time": "2021-10-23T00:29:31.310244",
     "exception": false,
     "start_time": "2021-10-23T00:29:31.243061",
     "status": "completed"
    },
    "tags": []
   },
   "source": [
    "### Explore Age Column <br>\n"
   ]
  },
  {
   "cell_type": "code",
   "execution_count": 18,
   "id": "34b7e497",
   "metadata": {
    "execution": {
     "iopub.execute_input": "2021-10-23T00:29:31.465550Z",
     "iopub.status.busy": "2021-10-23T00:29:31.464898Z",
     "iopub.status.idle": "2021-10-23T00:29:31.651762Z",
     "shell.execute_reply": "2021-10-23T00:29:31.652299Z",
     "shell.execute_reply.started": "2021-10-23T00:22:59.691328Z"
    },
    "papermill": {
     "duration": 0.261407,
     "end_time": "2021-10-23T00:29:31.652468",
     "exception": false,
     "start_time": "2021-10-23T00:29:31.391061",
     "status": "completed"
    },
    "tags": []
   },
   "outputs": [
    {
     "data": {
      "image/png": "[encoded data removed]",
      "text/plain": [
       "<Figure size 432x288 with 1 Axes>"
      ]
     },
     "metadata": {
      "needs_background": "light"
     },
     "output_type": "display_data"
    }
   ],
   "source": [
    "sns.boxplot(x=\"Age\", data=churn_df);"
   ]
  },
  {
   "cell_type": "code",
   "execution_count": 19,
   "id": "d765529a",
   "metadata": {
    "execution": {
     "iopub.execute_input": "2021-10-23T00:29:31.790469Z",
     "iopub.status.busy": "2021-10-23T00:29:31.789732Z",
     "iopub.status.idle": "2021-10-23T00:29:31.798805Z",
     "shell.execute_reply": "2021-10-23T00:29:31.799274Z",
     "shell.execute_reply.started": "2021-10-23T00:22:59.883838Z"
    },
    "papermill": {
     "duration": 0.079563,
     "end_time": "2021-10-23T00:29:31.799478",
     "exception": false,
     "start_time": "2021-10-23T00:29:31.719915",
     "status": "completed"
    },
    "tags": []
   },
   "outputs": [
    {
     "data": {
      "text/plain": [
       "count    10000.000000\n",
       "mean        38.921800\n",
       "std         10.487806\n",
       "min         18.000000\n",
       "25%         32.000000\n",
       "50%         37.000000\n",
       "75%         44.000000\n",
       "max         92.000000\n",
       "Name: Age, dtype: float64"
      ]
     },
     "execution_count": 19,
     "metadata": {},
     "output_type": "execute_result"
    }
   ],
   "source": [
    "churn_df[\"Age\"].describe()"
   ]
  },
  {
   "cell_type": "markdown",
   "id": "5b0ce759",
   "metadata": {
    "papermill": {
     "duration": 0.067311,
     "end_time": "2021-10-23T00:29:31.935431",
     "exception": false,
     "start_time": "2021-10-23T00:29:31.868120",
     "status": "completed"
    },
    "tags": []
   },
   "source": [
    "Split Age column To find if there's a relationship between Exited and age "
   ]
  },
  {
   "cell_type": "code",
   "execution_count": 20,
   "id": "56180ce3",
   "metadata": {
    "execution": {
     "iopub.execute_input": "2021-10-23T00:29:32.074378Z",
     "iopub.status.busy": "2021-10-23T00:29:32.073650Z",
     "iopub.status.idle": "2021-10-23T00:29:32.080168Z",
     "shell.execute_reply": "2021-10-23T00:29:32.079467Z",
     "shell.execute_reply.started": "2021-10-23T00:22:59.896540Z"
    },
    "papermill": {
     "duration": 0.077045,
     "end_time": "2021-10-23T00:29:32.080333",
     "exception": false,
     "start_time": "2021-10-23T00:29:32.003288",
     "status": "completed"
    },
    "tags": []
   },
   "outputs": [],
   "source": [
    "churn_df[\"cat_age\"] = pd.qcut(churn_df[\"Age\"], q=3, labels=False )"
   ]
  },
  {
   "cell_type": "code",
   "execution_count": 21,
   "id": "de9d66aa",
   "metadata": {
    "execution": {
     "iopub.execute_input": "2021-10-23T00:29:32.221672Z",
     "iopub.status.busy": "2021-10-23T00:29:32.220997Z",
     "iopub.status.idle": "2021-10-23T00:29:32.234751Z",
     "shell.execute_reply": "2021-10-23T00:29:32.235280Z",
     "shell.execute_reply.started": "2021-10-23T00:22:59.906796Z"
    },
    "papermill": {
     "duration": 0.086365,
     "end_time": "2021-10-23T00:29:32.235453",
     "exception": false,
     "start_time": "2021-10-23T00:29:32.149088",
     "status": "completed"
    },
    "tags": []
   },
   "outputs": [
    {
     "name": "stdout",
     "output_type": "stream",
     "text": [
      "-----Age Intervals-----\n"
     ]
    },
    {
     "data": {
      "text/html": [
       "<div>\n",
       "<style scoped>\n",
       "    .dataframe tbody tr th:only-of-type {\n",
       "        vertical-align: middle;\n",
       "    }\n",
       "\n",
       "    .dataframe tbody tr th {\n",
       "        vertical-align: top;\n",
       "    }\n",
       "\n",
       "    .dataframe thead th {\n",
       "        text-align: right;\n",
       "    }\n",
       "</style>\n",
       "<table border=\"1\" class=\"dataframe\">\n",
       "  <thead>\n",
       "    <tr style=\"text-align: right;\">\n",
       "      <th></th>\n",
       "      <th>min</th>\n",
       "      <th>max</th>\n",
       "      <th>count</th>\n",
       "    </tr>\n",
       "    <tr>\n",
       "      <th>cat_age</th>\n",
       "      <th></th>\n",
       "      <th></th>\n",
       "      <th></th>\n",
       "    </tr>\n",
       "  </thead>\n",
       "  <tbody>\n",
       "    <tr>\n",
       "      <th>0</th>\n",
       "      <td>18</td>\n",
       "      <td>34</td>\n",
       "      <td>3679</td>\n",
       "    </tr>\n",
       "    <tr>\n",
       "      <th>1</th>\n",
       "      <td>35</td>\n",
       "      <td>41</td>\n",
       "      <td>3106</td>\n",
       "    </tr>\n",
       "    <tr>\n",
       "      <th>2</th>\n",
       "      <td>42</td>\n",
       "      <td>92</td>\n",
       "      <td>3215</td>\n",
       "    </tr>\n",
       "  </tbody>\n",
       "</table>\n",
       "</div>"
      ],
      "text/plain": [
       "         min  max  count\n",
       "cat_age                 \n",
       "0         18   34   3679\n",
       "1         35   41   3106\n",
       "2         42   92   3215"
      ]
     },
     "execution_count": 21,
     "metadata": {},
     "output_type": "execute_result"
    }
   ],
   "source": [
    "print(\"-----Age Intervals-----\")\n",
    "churn_df.groupby(\"cat_age\")[\"Age\"].agg(['min','max','count'])"
   ]
  },
  {
   "cell_type": "code",
   "execution_count": 22,
   "id": "eb0005c2",
   "metadata": {
    "execution": {
     "iopub.execute_input": "2021-10-23T00:29:32.379425Z",
     "iopub.status.busy": "2021-10-23T00:29:32.378290Z",
     "iopub.status.idle": "2021-10-23T00:29:32.612040Z",
     "shell.execute_reply": "2021-10-23T00:29:32.611522Z",
     "shell.execute_reply.started": "2021-10-23T00:22:59.929757Z"
    },
    "papermill": {
     "duration": 0.308165,
     "end_time": "2021-10-23T00:29:32.612181",
     "exception": false,
     "start_time": "2021-10-23T00:29:32.304016",
     "status": "completed"
    },
    "tags": []
   },
   "outputs": [
    {
     "data": {
      "image/png": "[encoded data removed]",
      "text/plain": [
       "<Figure size 432x288 with 1 Axes>"
      ]
     },
     "metadata": {
      "needs_background": "light"
     },
     "output_type": "display_data"
    }
   ],
   "source": [
    "sns.countplot(x=\"cat_age\", hue=\"Exited\", data=churn_df);"
   ]
  },
  {
   "cell_type": "markdown",
   "id": "8c25a09b",
   "metadata": {
    "papermill": {
     "duration": 0.068777,
     "end_time": "2021-10-23T00:29:32.750259",
     "exception": false,
     "start_time": "2021-10-23T00:29:32.681482",
     "status": "completed"
    },
    "tags": []
   },
   "source": [
    "People who are age > 41 are more likely to leave the bank and vice versa! "
   ]
  },
  {
   "cell_type": "markdown",
   "id": "86121fc2",
   "metadata": {
    "papermill": {
     "duration": 0.068519,
     "end_time": "2021-10-23T00:29:32.888620",
     "exception": false,
     "start_time": "2021-10-23T00:29:32.820101",
     "status": "completed"
    },
    "tags": []
   },
   "source": [
    "### Explore Tenure Column <br>\n"
   ]
  },
  {
   "cell_type": "code",
   "execution_count": 23,
   "id": "fa6a8881",
   "metadata": {
    "execution": {
     "iopub.execute_input": "2021-10-23T00:29:33.030660Z",
     "iopub.status.busy": "2021-10-23T00:29:33.029990Z",
     "iopub.status.idle": "2021-10-23T00:29:33.373529Z",
     "shell.execute_reply": "2021-10-23T00:29:33.373996Z",
     "shell.execute_reply.started": "2021-10-23T00:23:00.175645Z"
    },
    "papermill": {
     "duration": 0.41691,
     "end_time": "2021-10-23T00:29:33.374170",
     "exception": false,
     "start_time": "2021-10-23T00:29:32.957260",
     "status": "completed"
    },
    "tags": []
   },
   "outputs": [
    {
     "data": {
      "image/png": "[encoded data removed]",
      "text/plain": [
       "<Figure size 432x288 with 1 Axes>"
      ]
     },
     "metadata": {
      "needs_background": "light"
     },
     "output_type": "display_data"
    }
   ],
   "source": [
    "sns.countplot(x=\"Tenure\", hue=\"Exited\", data=churn_df);"
   ]
  },
  {
   "cell_type": "markdown",
   "id": "68f7ef80",
   "metadata": {
    "papermill": {
     "duration": 0.069493,
     "end_time": "2021-10-23T00:29:33.514294",
     "exception": false,
     "start_time": "2021-10-23T00:29:33.444801",
     "status": "completed"
    },
    "tags": []
   },
   "source": [
    "There's no obvious trend or relationship between Tenure and Excited, so we can discard this column from training"
   ]
  },
  {
   "cell_type": "markdown",
   "id": "9cf684f2",
   "metadata": {
    "papermill": {
     "duration": 0.070021,
     "end_time": "2021-10-23T00:29:33.654902",
     "exception": false,
     "start_time": "2021-10-23T00:29:33.584881",
     "status": "completed"
    },
    "tags": []
   },
   "source": [
    "### Explore Balance Column <br>\n"
   ]
  },
  {
   "cell_type": "code",
   "execution_count": 24,
   "id": "c0c2164e",
   "metadata": {
    "execution": {
     "iopub.execute_input": "2021-10-23T00:29:33.799775Z",
     "iopub.status.busy": "2021-10-23T00:29:33.799140Z",
     "iopub.status.idle": "2021-10-23T00:29:33.806435Z",
     "shell.execute_reply": "2021-10-23T00:29:33.807014Z",
     "shell.execute_reply.started": "2021-10-23T00:23:00.540430Z"
    },
    "papermill": {
     "duration": 0.082239,
     "end_time": "2021-10-23T00:29:33.807180",
     "exception": false,
     "start_time": "2021-10-23T00:29:33.724941",
     "status": "completed"
    },
    "tags": []
   },
   "outputs": [
    {
     "data": {
      "text/plain": [
       "count     10000.000000\n",
       "mean      76485.889288\n",
       "std       62397.405202\n",
       "min           0.000000\n",
       "25%           0.000000\n",
       "50%       97198.540000\n",
       "75%      127644.240000\n",
       "max      250898.090000\n",
       "Name: Balance, dtype: float64"
      ]
     },
     "execution_count": 24,
     "metadata": {},
     "output_type": "execute_result"
    }
   ],
   "source": [
    "churn_df[\"Balance\"].describe()"
   ]
  },
  {
   "cell_type": "code",
   "execution_count": 25,
   "id": "1331ca4b",
   "metadata": {
    "execution": {
     "iopub.execute_input": "2021-10-23T00:29:33.953107Z",
     "iopub.status.busy": "2021-10-23T00:29:33.952480Z",
     "iopub.status.idle": "2021-10-23T00:29:34.125142Z",
     "shell.execute_reply": "2021-10-23T00:29:34.124616Z",
     "shell.execute_reply.started": "2021-10-23T00:23:00.553160Z"
    },
    "papermill": {
     "duration": 0.24733,
     "end_time": "2021-10-23T00:29:34.125306",
     "exception": false,
     "start_time": "2021-10-23T00:29:33.877976",
     "status": "completed"
    },
    "tags": []
   },
   "outputs": [
    {
     "data": {
      "image/png": "[encoded data removed]",
      "text/plain": [
       "<Figure size 432x288 with 1 Axes>"
      ]
     },
     "metadata": {
      "needs_background": "light"
     },
     "output_type": "display_data"
    }
   ],
   "source": [
    "sns.boxplot(x=\"Balance\", data=churn_df);"
   ]
  },
  {
   "cell_type": "markdown",
   "id": "08b600e0",
   "metadata": {
    "papermill": {
     "duration": 0.070965,
     "end_time": "2021-10-23T00:29:34.267030",
     "exception": false,
     "start_time": "2021-10-23T00:29:34.196065",
     "status": "completed"
    },
    "tags": []
   },
   "source": [
    "split \"Balance\" column to 4 category <br>\n",
    "0 -->     Balance == 0 <br>\n",
    "1 --> 0 < Balance <= 100,000 <br>\n",
    "2 --> 100,000 < Balance <= 150,000 <br>\n",
    "3 --> 150,000 < Balance  <br>"
   ]
  },
  {
   "cell_type": "code",
   "execution_count": 26,
   "id": "83fd5988",
   "metadata": {
    "execution": {
     "iopub.execute_input": "2021-10-23T00:29:34.414412Z",
     "iopub.status.busy": "2021-10-23T00:29:34.413731Z",
     "iopub.status.idle": "2021-10-23T00:29:34.416682Z",
     "shell.execute_reply": "2021-10-23T00:29:34.416072Z",
     "shell.execute_reply.started": "2021-10-23T00:23:00.686310Z"
    },
    "papermill": {
     "duration": 0.078301,
     "end_time": "2021-10-23T00:29:34.416847",
     "exception": false,
     "start_time": "2021-10-23T00:29:34.338546",
     "status": "completed"
    },
    "tags": []
   },
   "outputs": [],
   "source": [
    "churn_df[\"cat_balance\"] = 0"
   ]
  },
  {
   "cell_type": "code",
   "execution_count": 27,
   "id": "a20c1a83",
   "metadata": {
    "execution": {
     "iopub.execute_input": "2021-10-23T00:29:34.565690Z",
     "iopub.status.busy": "2021-10-23T00:29:34.565035Z",
     "iopub.status.idle": "2021-10-23T00:29:34.570816Z",
     "shell.execute_reply": "2021-10-23T00:29:34.570275Z",
     "shell.execute_reply.started": "2021-10-23T00:23:00.703929Z"
    },
    "papermill": {
     "duration": 0.083376,
     "end_time": "2021-10-23T00:29:34.570955",
     "exception": false,
     "start_time": "2021-10-23T00:29:34.487579",
     "status": "completed"
    },
    "tags": []
   },
   "outputs": [],
   "source": [
    "churn_df.loc[((churn_df.Balance > 0) & (churn_df.Balance <= 100000)),\"cat_balance\"] = 1\n",
    "churn_df.loc[((churn_df.Balance > 100000) & (churn_df.Balance <= 150000)),\"cat_balance\"] = 2\n",
    "churn_df.loc[(churn_df.Balance > 150000),\"cat_balance\"] = 3"
   ]
  },
  {
   "cell_type": "code",
   "execution_count": 28,
   "id": "46d1a9c6",
   "metadata": {
    "execution": {
     "iopub.execute_input": "2021-10-23T00:29:34.719430Z",
     "iopub.status.busy": "2021-10-23T00:29:34.718747Z",
     "iopub.status.idle": "2021-10-23T00:29:34.963062Z",
     "shell.execute_reply": "2021-10-23T00:29:34.963549Z",
     "shell.execute_reply.started": "2021-10-23T00:23:00.720383Z"
    },
    "papermill": {
     "duration": 0.320991,
     "end_time": "2021-10-23T00:29:34.963735",
     "exception": false,
     "start_time": "2021-10-23T00:29:34.642744",
     "status": "completed"
    },
    "tags": []
   },
   "outputs": [
    {
     "data": {
      "image/png": "[encoded data removed]",
      "text/plain": [
       "<Figure size 432x288 with 1 Axes>"
      ]
     },
     "metadata": {
      "needs_background": "light"
     },
     "output_type": "display_data"
    }
   ],
   "source": [
    "sns.countplot(x=\"cat_balance\", hue=\"Exited\", data=churn_df);"
   ]
  },
  {
   "cell_type": "markdown",
   "id": "253c23e4",
   "metadata": {
    "papermill": {
     "duration": 0.071849,
     "end_time": "2021-10-23T00:29:35.106729",
     "exception": false,
     "start_time": "2021-10-23T00:29:35.034880",
     "status": "completed"
    },
    "tags": []
   },
   "source": [
    "### Explore NumOfProducts Column <br>\n"
   ]
  },
  {
   "cell_type": "code",
   "execution_count": 29,
   "id": "73533b65",
   "metadata": {
    "execution": {
     "iopub.execute_input": "2021-10-23T00:29:35.257031Z",
     "iopub.status.busy": "2021-10-23T00:29:35.256013Z",
     "iopub.status.idle": "2021-10-23T00:29:35.514891Z",
     "shell.execute_reply": "2021-10-23T00:29:35.514353Z",
     "shell.execute_reply.started": "2021-10-23T00:23:00.970587Z"
    },
    "papermill": {
     "duration": 0.336019,
     "end_time": "2021-10-23T00:29:35.515037",
     "exception": false,
     "start_time": "2021-10-23T00:29:35.179018",
     "status": "completed"
    },
    "tags": []
   },
   "outputs": [
    {
     "data": {
      "image/png": "[encoded data removed]",
      "text/plain": [
       "<Figure size 432x288 with 1 Axes>"
      ]
     },
     "metadata": {
      "needs_background": "light"
     },
     "output_type": "display_data"
    }
   ],
   "source": [
    "sns.countplot(x=\"NumOfProducts\", hue=\"Exited\", data=churn_df);"
   ]
  },
  {
   "cell_type": "code",
   "execution_count": 30,
   "id": "f76e2ea5",
   "metadata": {
    "execution": {
     "iopub.execute_input": "2021-10-23T00:29:35.663580Z",
     "iopub.status.busy": "2021-10-23T00:29:35.662840Z",
     "iopub.status.idle": "2021-10-23T00:29:35.669162Z",
     "shell.execute_reply": "2021-10-23T00:29:35.669696Z",
     "shell.execute_reply.started": "2021-10-23T00:23:01.237808Z"
    },
    "papermill": {
     "duration": 0.082482,
     "end_time": "2021-10-23T00:29:35.669865",
     "exception": false,
     "start_time": "2021-10-23T00:29:35.587383",
     "status": "completed"
    },
    "tags": []
   },
   "outputs": [
    {
     "data": {
      "text/plain": [
       "1    5084\n",
       "2    4590\n",
       "3     266\n",
       "4      60\n",
       "Name: NumOfProducts, dtype: int64"
      ]
     },
     "execution_count": 30,
     "metadata": {},
     "output_type": "execute_result"
    }
   ],
   "source": [
    "churn_df[\"NumOfProducts\"].value_counts()"
   ]
  },
  {
   "cell_type": "markdown",
   "id": "15c8c228",
   "metadata": {
    "papermill": {
     "duration": 0.072933,
     "end_time": "2021-10-23T00:29:35.816086",
     "exception": false,
     "start_time": "2021-10-23T00:29:35.743153",
     "status": "completed"
    },
    "tags": []
   },
   "source": [
    "NumOfProducts column has unbalanced categories for categories 3, and 4  <br>\n",
    "But from categories 1 and 2, it seems that clients who have more products with the bank aim to stay with the bank <br>"
   ]
  },
  {
   "cell_type": "markdown",
   "id": "ebbf93de",
   "metadata": {
    "papermill": {
     "duration": 0.073584,
     "end_time": "2021-10-23T00:29:35.962366",
     "exception": false,
     "start_time": "2021-10-23T00:29:35.888782",
     "status": "completed"
    },
    "tags": []
   },
   "source": [
    "Create a new column have_products that have 1 for clients with more than one product and 0 who is not  "
   ]
  },
  {
   "cell_type": "code",
   "execution_count": 31,
   "id": "13c5c3d1",
   "metadata": {
    "execution": {
     "iopub.execute_input": "2021-10-23T00:29:36.111139Z",
     "iopub.status.busy": "2021-10-23T00:29:36.110147Z",
     "iopub.status.idle": "2021-10-23T00:29:36.115722Z",
     "shell.execute_reply": "2021-10-23T00:29:36.116335Z",
     "shell.execute_reply.started": "2021-10-23T00:23:01.246471Z"
    },
    "papermill": {
     "duration": 0.082138,
     "end_time": "2021-10-23T00:29:36.116505",
     "exception": false,
     "start_time": "2021-10-23T00:29:36.034367",
     "status": "completed"
    },
    "tags": []
   },
   "outputs": [],
   "source": [
    "churn_df[\"have_products\"] = 0\n",
    "churn_df.loc[churn_df[\"NumOfProducts\"]>1, \"have_products\"] = 1"
   ]
  },
  {
   "cell_type": "code",
   "execution_count": 32,
   "id": "3ee543cb",
   "metadata": {
    "execution": {
     "iopub.execute_input": "2021-10-23T00:29:36.265518Z",
     "iopub.status.busy": "2021-10-23T00:29:36.264523Z",
     "iopub.status.idle": "2021-10-23T00:29:36.271972Z",
     "shell.execute_reply": "2021-10-23T00:29:36.272596Z",
     "shell.execute_reply.started": "2021-10-23T00:23:01.259940Z"
    },
    "papermill": {
     "duration": 0.083813,
     "end_time": "2021-10-23T00:29:36.272776",
     "exception": false,
     "start_time": "2021-10-23T00:29:36.188963",
     "status": "completed"
    },
    "tags": []
   },
   "outputs": [
    {
     "data": {
      "text/plain": [
       "0    0.5084\n",
       "1    0.4916\n",
       "Name: have_products, dtype: float64"
      ]
     },
     "execution_count": 32,
     "metadata": {},
     "output_type": "execute_result"
    }
   ],
   "source": [
    "churn_df[\"have_products\"].value_counts(normalize=True)"
   ]
  },
  {
   "cell_type": "code",
   "execution_count": 33,
   "id": "d4f244c3",
   "metadata": {
    "execution": {
     "iopub.execute_input": "2021-10-23T00:29:36.425817Z",
     "iopub.status.busy": "2021-10-23T00:29:36.425144Z",
     "iopub.status.idle": "2021-10-23T00:29:36.435000Z",
     "shell.execute_reply": "2021-10-23T00:29:36.435511Z",
     "shell.execute_reply.started": "2021-10-23T00:23:01.274429Z"
    },
    "papermill": {
     "duration": 0.089995,
     "end_time": "2021-10-23T00:29:36.435681",
     "exception": false,
     "start_time": "2021-10-23T00:29:36.345686",
     "status": "completed"
    },
    "tags": []
   },
   "outputs": [
    {
     "data": {
      "text/plain": [
       "have_products  Exited\n",
       "1              0         0.4288\n",
       "0              0         0.3675\n",
       "               1         0.1409\n",
       "1              1         0.0628\n",
       "dtype: float64"
      ]
     },
     "execution_count": 33,
     "metadata": {},
     "output_type": "execute_result"
    }
   ],
   "source": [
    "churn_df[[\"have_products\", \"Exited\"]].value_counts(normalize=True)"
   ]
  },
  {
   "cell_type": "code",
   "execution_count": 34,
   "id": "6955d557",
   "metadata": {
    "execution": {
     "iopub.execute_input": "2021-10-23T00:29:36.588188Z",
     "iopub.status.busy": "2021-10-23T00:29:36.587526Z",
     "iopub.status.idle": "2021-10-23T00:29:36.793249Z",
     "shell.execute_reply": "2021-10-23T00:29:36.792629Z",
     "shell.execute_reply.started": "2021-10-23T00:23:01.294015Z"
    },
    "papermill": {
     "duration": 0.284158,
     "end_time": "2021-10-23T00:29:36.793406",
     "exception": false,
     "start_time": "2021-10-23T00:29:36.509248",
     "status": "completed"
    },
    "tags": []
   },
   "outputs": [
    {
     "data": {
      "image/png": "[encoded data removed]",
      "text/plain": [
       "<Figure size 432x288 with 1 Axes>"
      ]
     },
     "metadata": {
      "needs_background": "light"
     },
     "output_type": "display_data"
    }
   ],
   "source": [
    "sns.countplot(x=\"have_products\", hue=\"Exited\", data=churn_df);"
   ]
  },
  {
   "cell_type": "markdown",
   "id": "ba211353",
   "metadata": {
    "papermill": {
     "duration": 0.075673,
     "end_time": "2021-10-23T00:29:36.943639",
     "exception": false,
     "start_time": "2021-10-23T00:29:36.867966",
     "status": "completed"
    },
    "tags": []
   },
   "source": [
    "Conclusion clients with more products with the bank seem to stay more with the bank "
   ]
  },
  {
   "cell_type": "markdown",
   "id": "4a83fa5c",
   "metadata": {
    "papermill": {
     "duration": 0.07646,
     "end_time": "2021-10-23T00:29:37.094050",
     "exception": false,
     "start_time": "2021-10-23T00:29:37.017590",
     "status": "completed"
    },
    "tags": []
   },
   "source": [
    "### Explore HasCrCard Column <br>\n"
   ]
  },
  {
   "cell_type": "code",
   "execution_count": 35,
   "id": "8aa86428",
   "metadata": {
    "execution": {
     "iopub.execute_input": "2021-10-23T00:29:37.247100Z",
     "iopub.status.busy": "2021-10-23T00:29:37.246448Z",
     "iopub.status.idle": "2021-10-23T00:29:37.256127Z",
     "shell.execute_reply": "2021-10-23T00:29:37.256735Z",
     "shell.execute_reply.started": "2021-10-23T00:23:01.505147Z"
    },
    "papermill": {
     "duration": 0.087657,
     "end_time": "2021-10-23T00:29:37.256914",
     "exception": false,
     "start_time": "2021-10-23T00:29:37.169257",
     "status": "completed"
    },
    "tags": []
   },
   "outputs": [
    {
     "data": {
      "text/plain": [
       "HasCrCard  Exited\n",
       "1          0         0.5631\n",
       "0          0         0.2332\n",
       "1          1         0.1424\n",
       "0          1         0.0613\n",
       "dtype: float64"
      ]
     },
     "execution_count": 35,
     "metadata": {},
     "output_type": "execute_result"
    }
   ],
   "source": [
    "churn_df[[\"HasCrCard\", \"Exited\"]].value_counts(normalize=True)"
   ]
  },
  {
   "cell_type": "code",
   "execution_count": 36,
   "id": "c3c44ed2",
   "metadata": {
    "execution": {
     "iopub.execute_input": "2021-10-23T00:29:37.410021Z",
     "iopub.status.busy": "2021-10-23T00:29:37.409047Z",
     "iopub.status.idle": "2021-10-23T00:29:37.621009Z",
     "shell.execute_reply": "2021-10-23T00:29:37.620376Z",
     "shell.execute_reply.started": "2021-10-23T00:23:01.518839Z"
    },
    "papermill": {
     "duration": 0.289887,
     "end_time": "2021-10-23T00:29:37.621158",
     "exception": false,
     "start_time": "2021-10-23T00:29:37.331271",
     "status": "completed"
    },
    "tags": []
   },
   "outputs": [
    {
     "data": {
      "image/png": "[encoded data removed]",
      "text/plain": [
       "<Figure size 432x288 with 1 Axes>"
      ]
     },
     "metadata": {
      "needs_background": "light"
     },
     "output_type": "display_data"
    }
   ],
   "source": [
    "sns.countplot(x=\"HasCrCard\", hue=\"Exited\", data=churn_df);"
   ]
  },
  {
   "cell_type": "markdown",
   "id": "4e348703",
   "metadata": {
    "papermill": {
     "duration": 0.074297,
     "end_time": "2021-10-23T00:29:37.770654",
     "exception": false,
     "start_time": "2021-10-23T00:29:37.696357",
     "status": "completed"
    },
    "tags": []
   },
   "source": [
    "Conclusion clients with credit-card seem to stay more with the bank "
   ]
  },
  {
   "cell_type": "markdown",
   "id": "0a782a72",
   "metadata": {
    "papermill": {
     "duration": 0.0744,
     "end_time": "2021-10-23T00:29:37.920021",
     "exception": false,
     "start_time": "2021-10-23T00:29:37.845621",
     "status": "completed"
    },
    "tags": []
   },
   "source": [
    "### Explore IsActiveMember Column <br>\n"
   ]
  },
  {
   "cell_type": "code",
   "execution_count": 37,
   "id": "8b098f2d",
   "metadata": {
    "execution": {
     "iopub.execute_input": "2021-10-23T00:29:38.074616Z",
     "iopub.status.busy": "2021-10-23T00:29:38.073947Z",
     "iopub.status.idle": "2021-10-23T00:29:38.084079Z",
     "shell.execute_reply": "2021-10-23T00:29:38.084658Z",
     "shell.execute_reply.started": "2021-10-23T00:23:01.740240Z"
    },
    "papermill": {
     "duration": 0.089419,
     "end_time": "2021-10-23T00:29:38.084834",
     "exception": false,
     "start_time": "2021-10-23T00:29:37.995415",
     "status": "completed"
    },
    "tags": []
   },
   "outputs": [
    {
     "data": {
      "text/plain": [
       "IsActiveMember  Exited\n",
       "1               0         0.4416\n",
       "0               0         0.3547\n",
       "                1         0.1302\n",
       "1               1         0.0735\n",
       "dtype: float64"
      ]
     },
     "execution_count": 37,
     "metadata": {},
     "output_type": "execute_result"
    }
   ],
   "source": [
    "churn_df[[\"IsActiveMember\", \"Exited\"]].value_counts(normalize=True)"
   ]
  },
  {
   "cell_type": "code",
   "execution_count": 38,
   "id": "c3ee82c0",
   "metadata": {
    "execution": {
     "iopub.execute_input": "2021-10-23T00:29:38.240869Z",
     "iopub.status.busy": "2021-10-23T00:29:38.239846Z",
     "iopub.status.idle": "2021-10-23T00:29:38.447887Z",
     "shell.execute_reply": "2021-10-23T00:29:38.447367Z",
     "shell.execute_reply.started": "2021-10-23T00:23:01.754408Z"
    },
    "papermill": {
     "duration": 0.286498,
     "end_time": "2021-10-23T00:29:38.448030",
     "exception": false,
     "start_time": "2021-10-23T00:29:38.161532",
     "status": "completed"
    },
    "tags": []
   },
   "outputs": [
    {
     "data": {
      "image/png": "[encoded data removed]",
      "text/plain": [
       "<Figure size 432x288 with 1 Axes>"
      ]
     },
     "metadata": {
      "needs_background": "light"
     },
     "output_type": "display_data"
    }
   ],
   "source": [
    "sns.countplot(x=\"IsActiveMember\", hue=\"Exited\", data=churn_df);"
   ]
  },
  {
   "cell_type": "markdown",
   "id": "917264f1",
   "metadata": {
    "papermill": {
     "duration": 0.076142,
     "end_time": "2021-10-23T00:29:38.600358",
     "exception": false,
     "start_time": "2021-10-23T00:29:38.524216",
     "status": "completed"
    },
    "tags": []
   },
   "source": [
    "Conclusion Active clients  seem to stay more with the bank "
   ]
  },
  {
   "cell_type": "markdown",
   "id": "21f8fdf6",
   "metadata": {
    "papermill": {
     "duration": 0.076226,
     "end_time": "2021-10-23T00:29:38.753490",
     "exception": false,
     "start_time": "2021-10-23T00:29:38.677264",
     "status": "completed"
    },
    "tags": []
   },
   "source": [
    "### Explore EstimatedSalary Column <br>\n"
   ]
  },
  {
   "cell_type": "code",
   "execution_count": 39,
   "id": "4e131e98",
   "metadata": {
    "execution": {
     "iopub.execute_input": "2021-10-23T00:29:38.911118Z",
     "iopub.status.busy": "2021-10-23T00:29:38.910428Z",
     "iopub.status.idle": "2021-10-23T00:29:38.917664Z",
     "shell.execute_reply": "2021-10-23T00:29:38.918119Z",
     "shell.execute_reply.started": "2021-10-23T00:23:01.970534Z"
    },
    "papermill": {
     "duration": 0.088367,
     "end_time": "2021-10-23T00:29:38.918307",
     "exception": false,
     "start_time": "2021-10-23T00:29:38.829940",
     "status": "completed"
    },
    "tags": []
   },
   "outputs": [
    {
     "data": {
      "text/plain": [
       "count     10000.000000\n",
       "mean     100090.239881\n",
       "std       57510.492818\n",
       "min          11.580000\n",
       "25%       51002.110000\n",
       "50%      100193.915000\n",
       "75%      149388.247500\n",
       "max      199992.480000\n",
       "Name: EstimatedSalary, dtype: float64"
      ]
     },
     "execution_count": 39,
     "metadata": {},
     "output_type": "execute_result"
    }
   ],
   "source": [
    "churn_df[\"EstimatedSalary\"].describe()"
   ]
  },
  {
   "cell_type": "markdown",
   "id": "b4597fae",
   "metadata": {
    "papermill": {
     "duration": 0.07592,
     "end_time": "2021-10-23T00:29:39.070194",
     "exception": false,
     "start_time": "2021-10-23T00:29:38.994274",
     "status": "completed"
    },
    "tags": []
   },
   "source": [
    "Split EstimatedSalary column to 3 categories  <br>\n"
   ]
  },
  {
   "cell_type": "code",
   "execution_count": 40,
   "id": "507dbaaa",
   "metadata": {
    "execution": {
     "iopub.execute_input": "2021-10-23T00:29:39.227581Z",
     "iopub.status.busy": "2021-10-23T00:29:39.225791Z",
     "iopub.status.idle": "2021-10-23T00:29:39.232902Z",
     "shell.execute_reply": "2021-10-23T00:29:39.232351Z",
     "shell.execute_reply.started": "2021-10-23T00:23:01.983504Z"
    },
    "papermill": {
     "duration": 0.086255,
     "end_time": "2021-10-23T00:29:39.233049",
     "exception": false,
     "start_time": "2021-10-23T00:29:39.146794",
     "status": "completed"
    },
    "tags": []
   },
   "outputs": [],
   "source": [
    "churn_df[\"salary_cat\"] = pd.qcut(churn_df[\"EstimatedSalary\"], q=3, labels=False )"
   ]
  },
  {
   "cell_type": "code",
   "execution_count": 41,
   "id": "ea95789c",
   "metadata": {
    "execution": {
     "iopub.execute_input": "2021-10-23T00:29:39.390368Z",
     "iopub.status.busy": "2021-10-23T00:29:39.389717Z",
     "iopub.status.idle": "2021-10-23T00:29:39.399979Z",
     "shell.execute_reply": "2021-10-23T00:29:39.399465Z",
     "shell.execute_reply.started": "2021-10-23T00:23:01.996186Z"
    },
    "papermill": {
     "duration": 0.091087,
     "end_time": "2021-10-23T00:29:39.400121",
     "exception": false,
     "start_time": "2021-10-23T00:29:39.309034",
     "status": "completed"
    },
    "tags": []
   },
   "outputs": [
    {
     "data": {
      "text/plain": [
       "salary_cat  Exited\n",
       "1           0         0.2674\n",
       "0           0         0.2663\n",
       "2           0         0.2626\n",
       "            1         0.0707\n",
       "0           1         0.0671\n",
       "1           1         0.0659\n",
       "dtype: float64"
      ]
     },
     "execution_count": 41,
     "metadata": {},
     "output_type": "execute_result"
    }
   ],
   "source": [
    "churn_df[[\"salary_cat\", \"Exited\"]].value_counts(normalize=True)"
   ]
  },
  {
   "cell_type": "code",
   "execution_count": 42,
   "id": "eeae11a7",
   "metadata": {
    "execution": {
     "iopub.execute_input": "2021-10-23T00:29:39.559723Z",
     "iopub.status.busy": "2021-10-23T00:29:39.558655Z",
     "iopub.status.idle": "2021-10-23T00:29:39.779602Z",
     "shell.execute_reply": "2021-10-23T00:29:39.780077Z",
     "shell.execute_reply.started": "2021-10-23T00:23:02.015696Z"
    },
    "papermill": {
     "duration": 0.30352,
     "end_time": "2021-10-23T00:29:39.780275",
     "exception": false,
     "start_time": "2021-10-23T00:29:39.476755",
     "status": "completed"
    },
    "tags": []
   },
   "outputs": [
    {
     "data": {
      "image/png": "[encoded data removed]",
      "text/plain": [
       "<Figure size 432x288 with 1 Axes>"
      ]
     },
     "metadata": {
      "needs_background": "light"
     },
     "output_type": "display_data"
    }
   ],
   "source": [
    "sns.countplot(x=\"salary_cat\", hue=\"Exited\", data=churn_df);"
   ]
  },
  {
   "cell_type": "markdown",
   "id": "e8212efa",
   "metadata": {
    "papermill": {
     "duration": 0.078161,
     "end_time": "2021-10-23T00:29:39.935682",
     "exception": false,
     "start_time": "2021-10-23T00:29:39.857521",
     "status": "completed"
    },
    "tags": []
   },
   "source": [
    "There's no obvious trend or relationship between salary_cat and Excited, so we can discard this column from training"
   ]
  },
  {
   "cell_type": "markdown",
   "id": "ad9ddfe6",
   "metadata": {
    "papermill": {
     "duration": 0.077815,
     "end_time": "2021-10-23T00:29:40.090858",
     "exception": false,
     "start_time": "2021-10-23T00:29:40.013043",
     "status": "completed"
    },
    "tags": []
   },
   "source": [
    "## Prepare data for training"
   ]
  },
  {
   "cell_type": "markdown",
   "id": "2ef87156",
   "metadata": {
    "papermill": {
     "duration": 0.076899,
     "end_time": "2021-10-23T00:29:40.245823",
     "exception": false,
     "start_time": "2021-10-23T00:29:40.168924",
     "status": "completed"
    },
    "tags": []
   },
   "source": [
    "### Split data to train, validate, test"
   ]
  },
  {
   "cell_type": "code",
   "execution_count": 43,
   "id": "b719fa35",
   "metadata": {
    "execution": {
     "iopub.execute_input": "2021-10-23T00:29:40.403510Z",
     "iopub.status.busy": "2021-10-23T00:29:40.402874Z",
     "iopub.status.idle": "2021-10-23T00:29:40.407540Z",
     "shell.execute_reply": "2021-10-23T00:29:40.408132Z",
     "shell.execute_reply.started": "2021-10-23T00:23:02.250216Z"
    },
    "papermill": {
     "duration": 0.085454,
     "end_time": "2021-10-23T00:29:40.408316",
     "exception": false,
     "start_time": "2021-10-23T00:29:40.322862",
     "status": "completed"
    },
    "tags": []
   },
   "outputs": [
    {
     "data": {
      "text/plain": [
       "Index(['RowNumber', 'CustomerId', 'Surname', 'CreditScore', 'Geography',\n",
       "       'Gender', 'Age', 'Tenure', 'Balance', 'NumOfProducts', 'HasCrCard',\n",
       "       'IsActiveMember', 'EstimatedSalary', 'Exited', 'score_cat', 'cat_age',\n",
       "       'cat_balance', 'have_products', 'salary_cat'],\n",
       "      dtype='object')"
      ]
     },
     "execution_count": 43,
     "metadata": {},
     "output_type": "execute_result"
    }
   ],
   "source": [
    "churn_df.columns"
   ]
  },
  {
   "cell_type": "code",
   "execution_count": 44,
   "id": "62b994e9",
   "metadata": {
    "execution": {
     "iopub.execute_input": "2021-10-23T00:29:40.567320Z",
     "iopub.status.busy": "2021-10-23T00:29:40.566557Z",
     "iopub.status.idle": "2021-10-23T00:29:40.573872Z",
     "shell.execute_reply": "2021-10-23T00:29:40.574404Z",
     "shell.execute_reply.started": "2021-10-23T00:24:49.605647Z"
    },
    "papermill": {
     "duration": 0.088766,
     "end_time": "2021-10-23T00:29:40.574587",
     "exception": false,
     "start_time": "2021-10-23T00:29:40.485821",
     "status": "completed"
    },
    "tags": []
   },
   "outputs": [],
   "source": [
    "features1 = [\"Geography\", \"Gender\", \"cat_balance\", \"have_products\", \"HasCrCard\", \"IsActiveMember\", \"score_cat\", \"cat_age\"]\n",
    "features2 = [\"Geography\", \"Gender\", \"cat_balance\", \"have_products\", \"HasCrCard\", \"IsActiveMember\", \"score_cat\", \"salary_cat\"]\n",
    "features3 = [\"Geography\", \"Gender\", \"cat_balance\", \"have_products\", \"HasCrCard\", \"IsActiveMember\", \"score_cat\", \"EstimatedSalary\"]\n",
    "features4 = [\"Geography\", \"Gender\", \"cat_balance\", \"have_products\", \"HasCrCard\", \"IsActiveMember\", \"score_cat\", \"cat_age\", \"salary_cat\"]\n",
    "features5 = [\"Geography\", \"Gender\", \"Balance\", \"have_products\", \"HasCrCard\", \"IsActiveMember\", \"score_cat\", \"cat_age\"]\n",
    "features6 = [\"Geography\", \"Gender\", \"Balance\", \"NumOfProducts\", \"HasCrCard\", \"IsActiveMember\", \"score_cat\", \"cat_age\"]\n",
    "features7 = [\"Geography\", \"Gender\", \"Balance\", \"NumOfProducts\", \"HasCrCard\", \"IsActiveMember\", \"Tenure\", \"cat_age\", \"EstimatedSalary\"]\n",
    "features8 = [\"Geography\", \"Gender\", \"cat_balance\", \"Balance\", \"have_products\", \"NumOfProducts\", \"HasCrCard\", \"IsActiveMember\", \"cat_age\", \"EstimatedSalary\"]"
   ]
  },
  {
   "cell_type": "code",
   "execution_count": 45,
   "id": "ad9a096b",
   "metadata": {
    "execution": {
     "iopub.execute_input": "2021-10-23T00:29:40.734937Z",
     "iopub.status.busy": "2021-10-23T00:29:40.734259Z",
     "iopub.status.idle": "2021-10-23T00:29:40.739286Z",
     "shell.execute_reply": "2021-10-23T00:29:40.739771Z",
     "shell.execute_reply.started": "2021-10-23T00:24:51.679153Z"
    },
    "papermill": {
     "duration": 0.086854,
     "end_time": "2021-10-23T00:29:40.739946",
     "exception": false,
     "start_time": "2021-10-23T00:29:40.653092",
     "status": "completed"
    },
    "tags": []
   },
   "outputs": [],
   "source": [
    "X = churn_df.drop([\"Exited\"], axis=1)\n",
    "y = churn_df[\"Exited\"]"
   ]
  },
  {
   "cell_type": "code",
   "execution_count": 46,
   "id": "db6406ab",
   "metadata": {
    "execution": {
     "iopub.execute_input": "2021-10-23T00:29:40.900383Z",
     "iopub.status.busy": "2021-10-23T00:29:40.899674Z",
     "iopub.status.idle": "2021-10-23T00:29:40.909269Z",
     "shell.execute_reply": "2021-10-23T00:29:40.909799Z",
     "shell.execute_reply.started": "2021-10-23T00:24:52.311345Z"
    },
    "papermill": {
     "duration": 0.09175,
     "end_time": "2021-10-23T00:29:40.909974",
     "exception": false,
     "start_time": "2021-10-23T00:29:40.818224",
     "status": "completed"
    },
    "tags": []
   },
   "outputs": [],
   "source": [
    "X_train, X_test, y_train, y_test = train_test_split(X, y, test_size=0.2, random_state=1)"
   ]
  },
  {
   "cell_type": "code",
   "execution_count": 47,
   "id": "c40a3481",
   "metadata": {
    "execution": {
     "iopub.execute_input": "2021-10-23T00:29:41.070552Z",
     "iopub.status.busy": "2021-10-23T00:29:41.069585Z",
     "iopub.status.idle": "2021-10-23T00:29:41.075777Z",
     "shell.execute_reply": "2021-10-23T00:29:41.076341Z",
     "shell.execute_reply.started": "2021-10-23T00:24:54.803297Z"
    },
    "papermill": {
     "duration": 0.088022,
     "end_time": "2021-10-23T00:29:41.076513",
     "exception": false,
     "start_time": "2021-10-23T00:29:40.988491",
     "status": "completed"
    },
    "tags": []
   },
   "outputs": [],
   "source": [
    "X_train = X_train[features6]\n",
    "X_test = X_test[features6]"
   ]
  },
  {
   "cell_type": "code",
   "execution_count": 48,
   "id": "16dfd416",
   "metadata": {
    "execution": {
     "iopub.execute_input": "2021-10-23T00:29:41.235627Z",
     "iopub.status.busy": "2021-10-23T00:29:41.234653Z",
     "iopub.status.idle": "2021-10-23T00:29:41.248457Z",
     "shell.execute_reply": "2021-10-23T00:29:41.248994Z",
     "shell.execute_reply.started": "2021-10-23T00:25:15.446501Z"
    },
    "papermill": {
     "duration": 0.095184,
     "end_time": "2021-10-23T00:29:41.249175",
     "exception": false,
     "start_time": "2021-10-23T00:29:41.153991",
     "status": "completed"
    },
    "tags": []
   },
   "outputs": [],
   "source": [
    "# Geography, Gender --> labeled_Encoding \n",
    "cat_features = [\"Geography\", \"Gender\"]\n",
    "le = LabelEncoder()\n",
    "for i in cat_features:\n",
    "    le.fit(X_train[i])\n",
    "    X_train[i] = le.transform(X_train[i])\n",
    "    X_test[i] = le.transform(X_test[i])"
   ]
  },
  {
   "cell_type": "code",
   "execution_count": 49,
   "id": "eb03c3a1",
   "metadata": {
    "execution": {
     "iopub.execute_input": "2021-10-23T00:29:41.408915Z",
     "iopub.status.busy": "2021-10-23T00:29:41.407883Z",
     "iopub.status.idle": "2021-10-23T00:29:41.413734Z",
     "shell.execute_reply": "2021-10-23T00:29:41.414341Z",
     "shell.execute_reply.started": "2021-10-23T00:23:02.330772Z"
    },
    "papermill": {
     "duration": 0.086953,
     "end_time": "2021-10-23T00:29:41.414510",
     "exception": false,
     "start_time": "2021-10-23T00:29:41.327557",
     "status": "completed"
    },
    "tags": []
   },
   "outputs": [],
   "source": [
    "# One hot encoder for \"Geography\", \"Gender\"\n",
    "def onehotencoder(df, columns):\n",
    "    for col in columns:\n",
    "        cats = df[col].unique()\n",
    "        for i in range(len(cats)):\n",
    "            name = col +\"_\"+ cats[i]\n",
    "            df[name] = df[col].map({cats[i]: 1})\n",
    "            df[name].fillna(0, inplace=True)\n",
    "    return df"
   ]
  },
  {
   "cell_type": "code",
   "execution_count": 50,
   "id": "e1e4d876",
   "metadata": {
    "execution": {
     "iopub.execute_input": "2021-10-23T00:29:41.573763Z",
     "iopub.status.busy": "2021-10-23T00:29:41.572763Z",
     "iopub.status.idle": "2021-10-23T00:29:41.578896Z",
     "shell.execute_reply": "2021-10-23T00:29:41.578391Z",
     "shell.execute_reply.started": "2021-10-23T00:23:02.344420Z"
    },
    "papermill": {
     "duration": 0.086909,
     "end_time": "2021-10-23T00:29:41.579039",
     "exception": false,
     "start_time": "2021-10-23T00:29:41.492130",
     "status": "completed"
    },
    "tags": []
   },
   "outputs": [
    {
     "data": {
      "text/plain": [
       "'cat_features = [\"Geography\", \"Gender\"]\\nX_train = onehotencoder(X_train, cat_features)\\nX_test = onehotencoder(X_test, cat_features)\\n\\nX_train.drop([\"Geography\", \"Gender\"], axis=1, inplace=True)\\nX_test.drop([\"Geography\", \"Gender\"], axis=1, inplace=True)\\n'"
      ]
     },
     "execution_count": 50,
     "metadata": {},
     "output_type": "execute_result"
    }
   ],
   "source": [
    "\"\"\"cat_features = [\"Geography\", \"Gender\"]\n",
    "X_train = onehotencoder(X_train, cat_features)\n",
    "X_test = onehotencoder(X_test, cat_features)\n",
    "\n",
    "X_train.drop([\"Geography\", \"Gender\"], axis=1, inplace=True)\n",
    "X_test.drop([\"Geography\", \"Gender\"], axis=1, inplace=True)\n",
    "\"\"\""
   ]
  },
  {
   "cell_type": "code",
   "execution_count": 51,
   "id": "cb6a50f6",
   "metadata": {
    "execution": {
     "iopub.execute_input": "2021-10-23T00:29:41.742094Z",
     "iopub.status.busy": "2021-10-23T00:29:41.741080Z",
     "iopub.status.idle": "2021-10-23T00:29:41.757740Z",
     "shell.execute_reply": "2021-10-23T00:29:41.758308Z",
     "shell.execute_reply.started": "2021-10-23T00:25:27.779771Z"
    },
    "papermill": {
     "duration": 0.100781,
     "end_time": "2021-10-23T00:29:41.758485",
     "exception": false,
     "start_time": "2021-10-23T00:29:41.657704",
     "status": "completed"
    },
    "tags": []
   },
   "outputs": [
    {
     "data": {
      "text/html": [
       "<div>\n",
       "<style scoped>\n",
       "    .dataframe tbody tr th:only-of-type {\n",
       "        vertical-align: middle;\n",
       "    }\n",
       "\n",
       "    .dataframe tbody tr th {\n",
       "        vertical-align: top;\n",
       "    }\n",
       "\n",
       "    .dataframe thead th {\n",
       "        text-align: right;\n",
       "    }\n",
       "</style>\n",
       "<table border=\"1\" class=\"dataframe\">\n",
       "  <thead>\n",
       "    <tr style=\"text-align: right;\">\n",
       "      <th></th>\n",
       "      <th>Geography</th>\n",
       "      <th>Gender</th>\n",
       "      <th>Balance</th>\n",
       "      <th>NumOfProducts</th>\n",
       "      <th>HasCrCard</th>\n",
       "      <th>IsActiveMember</th>\n",
       "      <th>score_cat</th>\n",
       "      <th>cat_age</th>\n",
       "    </tr>\n",
       "  </thead>\n",
       "  <tbody>\n",
       "    <tr>\n",
       "      <th>2694</th>\n",
       "      <td>1</td>\n",
       "      <td>1</td>\n",
       "      <td>113146.98</td>\n",
       "      <td>2</td>\n",
       "      <td>0</td>\n",
       "      <td>1</td>\n",
       "      <td>1</td>\n",
       "      <td>0</td>\n",
       "    </tr>\n",
       "    <tr>\n",
       "      <th>5140</th>\n",
       "      <td>0</td>\n",
       "      <td>0</td>\n",
       "      <td>105767.28</td>\n",
       "      <td>2</td>\n",
       "      <td>0</td>\n",
       "      <td>0</td>\n",
       "      <td>1</td>\n",
       "      <td>0</td>\n",
       "    </tr>\n",
       "  </tbody>\n",
       "</table>\n",
       "</div>"
      ],
      "text/plain": [
       "      Geography  Gender    Balance  NumOfProducts  HasCrCard  IsActiveMember  \\\n",
       "2694          1       1  113146.98              2          0               1   \n",
       "5140          0       0  105767.28              2          0               0   \n",
       "\n",
       "      score_cat  cat_age  \n",
       "2694          1        0  \n",
       "5140          1        0  "
      ]
     },
     "metadata": {},
     "output_type": "display_data"
    },
    {
     "data": {
      "text/html": [
       "<div>\n",
       "<style scoped>\n",
       "    .dataframe tbody tr th:only-of-type {\n",
       "        vertical-align: middle;\n",
       "    }\n",
       "\n",
       "    .dataframe tbody tr th {\n",
       "        vertical-align: top;\n",
       "    }\n",
       "\n",
       "    .dataframe thead th {\n",
       "        text-align: right;\n",
       "    }\n",
       "</style>\n",
       "<table border=\"1\" class=\"dataframe\">\n",
       "  <thead>\n",
       "    <tr style=\"text-align: right;\">\n",
       "      <th></th>\n",
       "      <th>Geography</th>\n",
       "      <th>Gender</th>\n",
       "      <th>Balance</th>\n",
       "      <th>NumOfProducts</th>\n",
       "      <th>HasCrCard</th>\n",
       "      <th>IsActiveMember</th>\n",
       "      <th>score_cat</th>\n",
       "      <th>cat_age</th>\n",
       "    </tr>\n",
       "  </thead>\n",
       "  <tbody>\n",
       "    <tr>\n",
       "      <th>9953</th>\n",
       "      <td>0</td>\n",
       "      <td>1</td>\n",
       "      <td>0.00</td>\n",
       "      <td>2</td>\n",
       "      <td>1</td>\n",
       "      <td>1</td>\n",
       "      <td>0</td>\n",
       "      <td>2</td>\n",
       "    </tr>\n",
       "    <tr>\n",
       "      <th>3850</th>\n",
       "      <td>0</td>\n",
       "      <td>1</td>\n",
       "      <td>143292.95</td>\n",
       "      <td>1</td>\n",
       "      <td>1</td>\n",
       "      <td>0</td>\n",
       "      <td>2</td>\n",
       "      <td>0</td>\n",
       "    </tr>\n",
       "  </tbody>\n",
       "</table>\n",
       "</div>"
      ],
      "text/plain": [
       "      Geography  Gender    Balance  NumOfProducts  HasCrCard  IsActiveMember  \\\n",
       "9953          0       1       0.00              2          1               1   \n",
       "3850          0       1  143292.95              1          1               0   \n",
       "\n",
       "      score_cat  cat_age  \n",
       "9953          0        2  \n",
       "3850          2        0  "
      ]
     },
     "metadata": {},
     "output_type": "display_data"
    }
   ],
   "source": [
    "display(X_train.head(2))\n",
    "display(X_test.head(2))\n"
   ]
  },
  {
   "cell_type": "code",
   "execution_count": 52,
   "id": "68917753",
   "metadata": {
    "execution": {
     "iopub.execute_input": "2021-10-23T00:29:41.921061Z",
     "iopub.status.busy": "2021-10-23T00:29:41.920379Z",
     "iopub.status.idle": "2021-10-23T00:29:41.931960Z",
     "shell.execute_reply": "2021-10-23T00:29:41.932478Z",
     "shell.execute_reply.started": "2021-10-23T00:25:51.069235Z"
    },
    "papermill": {
     "duration": 0.095034,
     "end_time": "2021-10-23T00:29:41.932669",
     "exception": false,
     "start_time": "2021-10-23T00:29:41.837635",
     "status": "completed"
    },
    "tags": []
   },
   "outputs": [],
   "source": [
    "# Standarize data\n",
    "sc = StandardScaler()\n",
    "sc.fit(X_train)\n",
    "X_train = sc.transform(X_train)\n",
    "X_test = sc.transform(X_test)"
   ]
  },
  {
   "cell_type": "markdown",
   "id": "14b96892",
   "metadata": {
    "papermill": {
     "duration": 0.078906,
     "end_time": "2021-10-23T00:29:42.090855",
     "exception": false,
     "start_time": "2021-10-23T00:29:42.011949",
     "status": "completed"
    },
    "tags": []
   },
   "source": [
    "## ANN Model"
   ]
  },
  {
   "cell_type": "code",
   "execution_count": 53,
   "id": "0ad7a599",
   "metadata": {
    "execution": {
     "iopub.execute_input": "2021-10-23T00:29:42.256476Z",
     "iopub.status.busy": "2021-10-23T00:29:42.255805Z",
     "iopub.status.idle": "2021-10-23T00:29:42.454122Z",
     "shell.execute_reply": "2021-10-23T00:29:42.454874Z",
     "shell.execute_reply.started": "2021-10-23T00:25:53.998773Z"
    },
    "papermill": {
     "duration": 0.284748,
     "end_time": "2021-10-23T00:29:42.455066",
     "exception": false,
     "start_time": "2021-10-23T00:29:42.170318",
     "status": "completed"
    },
    "tags": []
   },
   "outputs": [
    {
     "name": "stderr",
     "output_type": "stream",
     "text": [
      "\n",
      "User settings:\n",
      "\n",
      "   KMP_AFFINITY=granularity=fine,verbose,compact,1,0\n",
      "   KMP_BLOCKTIME=0\n",
      "   KMP_DUPLICATE_LIB_OK=True\n",
      "   KMP_INIT_AT_FORK=FALSE\n",
      "   KMP_SETTINGS=1\n",
      "   KMP_WARNINGS=0\n",
      "\n",
      "Effective settings:\n",
      "\n",
      "   KMP_ABORT_DELAY=0\n",
      "   KMP_ADAPTIVE_LOCK_PROPS='1,1024'\n",
      "   KMP_ALIGN_ALLOC=64\n",
      "   KMP_ALL_THREADPRIVATE=128\n",
      "   KMP_ATOMIC_MODE=2\n",
      "   KMP_BLOCKTIME=0\n",
      "   KMP_CPUINFO_FILE: value is not defined\n",
      "   KMP_DETERMINISTIC_REDUCTION=false\n",
      "   KMP_DEVICE_THREAD_LIMIT=2147483647\n",
      "   KMP_DISP_NUM_BUFFERS=7\n",
      "   KMP_DUPLICATE_LIB_OK=true\n",
      "   KMP_ENABLE_TASK_THROTTLING=true\n",
      "   KMP_FORCE_REDUCTION: value is not defined\n",
      "   KMP_FOREIGN_THREADS_THREADPRIVATE=true\n",
      "   KMP_FORKJOIN_BARRIER='2,2'\n",
      "   KMP_FORKJOIN_BARRIER_PATTERN='hyper,hyper'\n",
      "   KMP_GTID_MODE=3\n",
      "   KMP_HANDLE_SIGNALS=false\n",
      "   KMP_HOT_TEAMS_MAX_LEVEL=1\n",
      "   KMP_HOT_TEAMS_MODE=0\n",
      "   KMP_INIT_AT_FORK=true\n",
      "   KMP_LIBRARY=throughput\n",
      "   KMP_LOCK_KIND=queuing\n",
      "   KMP_MALLOC_POOL_INCR=1M\n",
      "   KMP_NUM_LOCKS_IN_BLOCK=1\n",
      "   KMP_PLAIN_BARRIER='2,2'\n",
      "   KMP_PLAIN_BARRIER_PATTERN='hyper,hyper'\n",
      "   KMP_REDUCTION_BARRIER='1,1'\n",
      "   KMP_REDUCTION_BARRIER_PATTERN='hyper,hyper'\n",
      "   KMP_SCHEDULE='static,balanced;guided,iterative'\n",
      "   KMP_SETTINGS=true\n",
      "   KMP_SPIN_BACKOFF_PARAMS='4096,100'\n",
      "   KMP_STACKOFFSET=64\n",
      "   KMP_STACKPAD=0\n",
      "   KMP_STACKSIZE=8M\n",
      "   KMP_STORAGE_MAP=false\n",
      "   KMP_TASKING=2\n",
      "   KMP_TASKLOOP_MIN_TASKS=0\n",
      "   KMP_TASK_STEALING_CONSTRAINT=1\n",
      "   KMP_TEAMS_THREAD_LIMIT=4\n",
      "   KMP_TOPOLOGY_METHOD=all\n",
      "   KMP_USE_YIELD=1\n",
      "   KMP_VERSION=false\n",
      "   KMP_WARNINGS=false\n",
      "   OMP_AFFINITY_FORMAT='OMP: pid %P tid %i thread %n bound to OS proc set {%A}'\n",
      "   OMP_ALLOCATOR=omp_default_mem_alloc\n",
      "   OMP_CANCELLATION=false\n",
      "   OMP_DEFAULT_DEVICE=0\n",
      "   OMP_DISPLAY_AFFINITY=false\n",
      "   OMP_DISPLAY_ENV=false\n",
      "   OMP_DYNAMIC=false\n",
      "   OMP_MAX_ACTIVE_LEVELS=1\n",
      "   OMP_MAX_TASK_PRIORITY=0\n",
      "   OMP_NESTED: deprecated; max-active-levels-var=1\n",
      "   OMP_NUM_THREADS: value is not defined\n",
      "   OMP_PLACES: value is not defined\n",
      "   OMP_PROC_BIND='intel'\n",
      "   OMP_SCHEDULE='static'\n",
      "   OMP_STACKSIZE=8M\n",
      "   OMP_TARGET_OFFLOAD=DEFAULT\n",
      "   OMP_THREAD_LIMIT=2147483647\n",
      "   OMP_WAIT_POLICY=PASSIVE\n",
      "   KMP_AFFINITY='verbose,warnings,respect,granularity=fine,compact,1,0'\n",
      "\n",
      "2021-10-23 00:29:42.290660: I tensorflow/core/common_runtime/process_util.cc:146] Creating new thread pool with default inter op setting: 2. Tune using inter_op_parallelism_threads for best performance.\n"
     ]
    }
   ],
   "source": [
    "model = keras.models.Sequential()\n",
    "#model.add(layers.Flatten(input_shape=X_train.shape, name='input'))\n",
    "#model.add(layers.Dense(100, activation='relu', name='hidden_1'))\n",
    "#model.add(layers.Dense(50, activation='relu', name='hidden_2'))\n",
    "#model.add(layers.Dense(10, activation='sigmoid', name='output'))\n",
    "\n",
    "model.add(layers.Dense(units = 300, activation='relu',input_shape=X_train.shape))\n",
    "model.add(layers.Dense(units = 200, activation='relu'))\n",
    "model.add(layers.Dense(units = 150, activation='relu'))\n",
    "model.add(layers.Dense(units = 10, activation = 'sigmoid'))"
   ]
  },
  {
   "cell_type": "code",
   "execution_count": 54,
   "id": "2cae0908",
   "metadata": {
    "execution": {
     "iopub.execute_input": "2021-10-23T00:29:42.623822Z",
     "iopub.status.busy": "2021-10-23T00:29:42.618475Z",
     "iopub.status.idle": "2021-10-23T00:29:42.630946Z",
     "shell.execute_reply": "2021-10-23T00:29:42.631478Z",
     "shell.execute_reply.started": "2021-10-23T00:25:55.402597Z"
    },
    "papermill": {
     "duration": 0.096435,
     "end_time": "2021-10-23T00:29:42.631664",
     "exception": false,
     "start_time": "2021-10-23T00:29:42.535229",
     "status": "completed"
    },
    "tags": []
   },
   "outputs": [],
   "source": [
    "model.compile(loss='sparse_categorical_crossentropy', optimizer='Adamax', metrics=['accuracy'])"
   ]
  },
  {
   "cell_type": "code",
   "execution_count": 55,
   "id": "128b9d78",
   "metadata": {
    "execution": {
     "iopub.execute_input": "2021-10-23T00:29:42.796074Z",
     "iopub.status.busy": "2021-10-23T00:29:42.795042Z",
     "iopub.status.idle": "2021-10-23T00:29:42.802777Z",
     "shell.execute_reply": "2021-10-23T00:29:42.803427Z",
     "shell.execute_reply.started": "2021-10-23T00:25:57.482269Z"
    },
    "papermill": {
     "duration": 0.091737,
     "end_time": "2021-10-23T00:29:42.803604",
     "exception": false,
     "start_time": "2021-10-23T00:29:42.711867",
     "status": "completed"
    },
    "tags": []
   },
   "outputs": [
    {
     "name": "stdout",
     "output_type": "stream",
     "text": [
      "Model: \"sequential\"\n",
      "_________________________________________________________________\n",
      "Layer (type)                 Output Shape              Param #   \n",
      "=================================================================\n",
      "dense (Dense)                (None, 8000, 300)         2700      \n",
      "_________________________________________________________________\n",
      "dense_1 (Dense)              (None, 8000, 200)         60200     \n",
      "_________________________________________________________________\n",
      "dense_2 (Dense)              (None, 8000, 150)         30150     \n",
      "_________________________________________________________________\n",
      "dense_3 (Dense)              (None, 8000, 10)          1510      \n",
      "=================================================================\n",
      "Total params: 94,560\n",
      "Trainable params: 94,560\n",
      "Non-trainable params: 0\n",
      "_________________________________________________________________\n"
     ]
    }
   ],
   "source": [
    "model.summary()"
   ]
  },
  {
   "cell_type": "code",
   "execution_count": 56,
   "id": "8aae6ef3",
   "metadata": {
    "execution": {
     "iopub.execute_input": "2021-10-23T00:29:42.968906Z",
     "iopub.status.busy": "2021-10-23T00:29:42.967932Z",
     "iopub.status.idle": "2021-10-23T00:30:24.538830Z",
     "shell.execute_reply": "2021-10-23T00:30:24.538088Z",
     "shell.execute_reply.started": "2021-10-23T00:25:58.788968Z"
    },
    "papermill": {
     "duration": 41.655284,
     "end_time": "2021-10-23T00:30:24.538985",
     "exception": false,
     "start_time": "2021-10-23T00:29:42.883701",
     "status": "completed"
    },
    "tags": []
   },
   "outputs": [
    {
     "name": "stderr",
     "output_type": "stream",
     "text": [
      "2021-10-23 00:29:43.043943: I tensorflow/compiler/mlir/mlir_graph_optimization_pass.cc:185] None of the MLIR Optimization Passes are enabled (registered 2)\n"
     ]
    },
    {
     "name": "stdout",
     "output_type": "stream",
     "text": [
      "Epoch 1/100\n",
      "54/54 [==============================] - 1s 9ms/step - loss: 0.7382 - accuracy: 0.7835 - val_loss: 0.4223 - val_accuracy: 0.8175\n",
      "Epoch 2/100\n",
      "54/54 [==============================] - 0s 5ms/step - loss: 0.4211 - accuracy: 0.8253 - val_loss: 0.4236 - val_accuracy: 0.8092\n",
      "Epoch 3/100\n",
      "54/54 [==============================] - 0s 5ms/step - loss: 0.4007 - accuracy: 0.8343 - val_loss: 0.3877 - val_accuracy: 0.8345\n",
      "Epoch 4/100\n",
      "54/54 [==============================] - 0s 5ms/step - loss: 0.3814 - accuracy: 0.8421 - val_loss: 0.3752 - val_accuracy: 0.8376\n",
      "Epoch 5/100\n",
      "54/54 [==============================] - 0s 5ms/step - loss: 0.3684 - accuracy: 0.8492 - val_loss: 0.3672 - val_accuracy: 0.8395\n",
      "Epoch 6/100\n",
      "54/54 [==============================] - 0s 5ms/step - loss: 0.3600 - accuracy: 0.8513 - val_loss: 0.3735 - val_accuracy: 0.8326\n",
      "Epoch 7/100\n",
      "54/54 [==============================] - 0s 5ms/step - loss: 0.3587 - accuracy: 0.8515 - val_loss: 0.3592 - val_accuracy: 0.8466\n",
      "Epoch 8/100\n",
      "54/54 [==============================] - 0s 5ms/step - loss: 0.3563 - accuracy: 0.8515 - val_loss: 0.3573 - val_accuracy: 0.8466\n",
      "Epoch 9/100\n",
      "54/54 [==============================] - 0s 5ms/step - loss: 0.3544 - accuracy: 0.8496 - val_loss: 0.3652 - val_accuracy: 0.8504\n",
      "Epoch 10/100\n",
      "54/54 [==============================] - 0s 5ms/step - loss: 0.3512 - accuracy: 0.8539 - val_loss: 0.3631 - val_accuracy: 0.8432\n",
      "Epoch 11/100\n",
      "54/54 [==============================] - 0s 5ms/step - loss: 0.3484 - accuracy: 0.8520 - val_loss: 0.3559 - val_accuracy: 0.8432\n",
      "Epoch 12/100\n",
      "54/54 [==============================] - 0s 5ms/step - loss: 0.3484 - accuracy: 0.8546 - val_loss: 0.3564 - val_accuracy: 0.8463\n",
      "Epoch 13/100\n",
      "54/54 [==============================] - 0s 5ms/step - loss: 0.3446 - accuracy: 0.8563 - val_loss: 0.3552 - val_accuracy: 0.8485\n",
      "Epoch 14/100\n",
      "54/54 [==============================] - 0s 5ms/step - loss: 0.3461 - accuracy: 0.8558 - val_loss: 0.3587 - val_accuracy: 0.8448\n",
      "Epoch 15/100\n",
      "54/54 [==============================] - 0s 5ms/step - loss: 0.3443 - accuracy: 0.8543 - val_loss: 0.3569 - val_accuracy: 0.8459\n",
      "Epoch 16/100\n",
      "54/54 [==============================] - 0s 9ms/step - loss: 0.3421 - accuracy: 0.8580 - val_loss: 0.3559 - val_accuracy: 0.8482\n",
      "Epoch 17/100\n",
      "54/54 [==============================] - 1s 11ms/step - loss: 0.3399 - accuracy: 0.8558 - val_loss: 0.3596 - val_accuracy: 0.8459\n",
      "Epoch 18/100\n",
      "54/54 [==============================] - 0s 5ms/step - loss: 0.3407 - accuracy: 0.8578 - val_loss: 0.3574 - val_accuracy: 0.8466\n",
      "Epoch 19/100\n",
      "54/54 [==============================] - 0s 5ms/step - loss: 0.3371 - accuracy: 0.8576 - val_loss: 0.3556 - val_accuracy: 0.8432\n",
      "Epoch 20/100\n",
      "54/54 [==============================] - 0s 5ms/step - loss: 0.3355 - accuracy: 0.8563 - val_loss: 0.3689 - val_accuracy: 0.8432\n",
      "Epoch 21/100\n",
      "54/54 [==============================] - 0s 5ms/step - loss: 0.3359 - accuracy: 0.8604 - val_loss: 0.3560 - val_accuracy: 0.8463\n",
      "Epoch 22/100\n",
      "54/54 [==============================] - 0s 5ms/step - loss: 0.3327 - accuracy: 0.8595 - val_loss: 0.3569 - val_accuracy: 0.8466\n",
      "Epoch 23/100\n",
      "54/54 [==============================] - 0s 5ms/step - loss: 0.3338 - accuracy: 0.8630 - val_loss: 0.3621 - val_accuracy: 0.8455\n",
      "Epoch 24/100\n",
      "54/54 [==============================] - 0s 5ms/step - loss: 0.3316 - accuracy: 0.8602 - val_loss: 0.3588 - val_accuracy: 0.8440\n",
      "Epoch 25/100\n",
      "54/54 [==============================] - 0s 5ms/step - loss: 0.3318 - accuracy: 0.8571 - val_loss: 0.3613 - val_accuracy: 0.8448\n",
      "Epoch 26/100\n",
      "54/54 [==============================] - 0s 5ms/step - loss: 0.3327 - accuracy: 0.8593 - val_loss: 0.3582 - val_accuracy: 0.8425\n",
      "Epoch 27/100\n",
      "54/54 [==============================] - 0s 5ms/step - loss: 0.3269 - accuracy: 0.8614 - val_loss: 0.3571 - val_accuracy: 0.8451\n",
      "Epoch 28/100\n",
      "54/54 [==============================] - 0s 5ms/step - loss: 0.3276 - accuracy: 0.8619 - val_loss: 0.3611 - val_accuracy: 0.8432\n",
      "Epoch 29/100\n",
      "54/54 [==============================] - 0s 5ms/step - loss: 0.3262 - accuracy: 0.8608 - val_loss: 0.3624 - val_accuracy: 0.8425\n",
      "Epoch 30/100\n",
      "54/54 [==============================] - 0s 5ms/step - loss: 0.3270 - accuracy: 0.8604 - val_loss: 0.3659 - val_accuracy: 0.8425\n",
      "Epoch 31/100\n",
      "54/54 [==============================] - 0s 5ms/step - loss: 0.3239 - accuracy: 0.8655 - val_loss: 0.3609 - val_accuracy: 0.8455\n",
      "Epoch 32/100\n",
      "54/54 [==============================] - 0s 5ms/step - loss: 0.3264 - accuracy: 0.8612 - val_loss: 0.3605 - val_accuracy: 0.8436\n",
      "Epoch 33/100\n",
      "54/54 [==============================] - 0s 5ms/step - loss: 0.3242 - accuracy: 0.8642 - val_loss: 0.3612 - val_accuracy: 0.8459\n",
      "Epoch 34/100\n",
      "54/54 [==============================] - 0s 6ms/step - loss: 0.3221 - accuracy: 0.8628 - val_loss: 0.3634 - val_accuracy: 0.8421\n",
      "Epoch 35/100\n",
      "54/54 [==============================] - 0s 5ms/step - loss: 0.3207 - accuracy: 0.8656 - val_loss: 0.3657 - val_accuracy: 0.8440\n",
      "Epoch 36/100\n",
      "54/54 [==============================] - 0s 5ms/step - loss: 0.3207 - accuracy: 0.8632 - val_loss: 0.3641 - val_accuracy: 0.8455\n",
      "Epoch 37/100\n",
      "54/54 [==============================] - 0s 5ms/step - loss: 0.3196 - accuracy: 0.8645 - val_loss: 0.3654 - val_accuracy: 0.8448\n",
      "Epoch 38/100\n",
      "54/54 [==============================] - 0s 5ms/step - loss: 0.3226 - accuracy: 0.8628 - val_loss: 0.3630 - val_accuracy: 0.8444\n",
      "Epoch 39/100\n",
      "54/54 [==============================] - 0s 5ms/step - loss: 0.3166 - accuracy: 0.8651 - val_loss: 0.3676 - val_accuracy: 0.8391\n",
      "Epoch 40/100\n",
      "54/54 [==============================] - 0s 5ms/step - loss: 0.3223 - accuracy: 0.8640 - val_loss: 0.3819 - val_accuracy: 0.8376\n",
      "Epoch 41/100\n",
      "54/54 [==============================] - 0s 5ms/step - loss: 0.3179 - accuracy: 0.8653 - val_loss: 0.3709 - val_accuracy: 0.8432\n",
      "Epoch 42/100\n",
      "54/54 [==============================] - 0s 5ms/step - loss: 0.3188 - accuracy: 0.8658 - val_loss: 0.3702 - val_accuracy: 0.8455\n",
      "Epoch 43/100\n",
      "54/54 [==============================] - 0s 5ms/step - loss: 0.3193 - accuracy: 0.8619 - val_loss: 0.3792 - val_accuracy: 0.8444\n",
      "Epoch 44/100\n",
      "54/54 [==============================] - 0s 5ms/step - loss: 0.3136 - accuracy: 0.8653 - val_loss: 0.3731 - val_accuracy: 0.8440\n",
      "Epoch 45/100\n",
      "54/54 [==============================] - 0s 5ms/step - loss: 0.3177 - accuracy: 0.8617 - val_loss: 0.3659 - val_accuracy: 0.8444\n",
      "Epoch 46/100\n",
      "54/54 [==============================] - 0s 5ms/step - loss: 0.3120 - accuracy: 0.8642 - val_loss: 0.3671 - val_accuracy: 0.8413\n",
      "Epoch 47/100\n",
      "54/54 [==============================] - 0s 5ms/step - loss: 0.3119 - accuracy: 0.8670 - val_loss: 0.3778 - val_accuracy: 0.8410\n",
      "Epoch 48/100\n",
      "54/54 [==============================] - 0s 5ms/step - loss: 0.3135 - accuracy: 0.8668 - val_loss: 0.3731 - val_accuracy: 0.8421\n",
      "Epoch 49/100\n",
      "54/54 [==============================] - 0s 5ms/step - loss: 0.3130 - accuracy: 0.8638 - val_loss: 0.3697 - val_accuracy: 0.8432\n",
      "Epoch 50/100\n",
      "54/54 [==============================] - 0s 5ms/step - loss: 0.3153 - accuracy: 0.8636 - val_loss: 0.3838 - val_accuracy: 0.8466\n",
      "Epoch 51/100\n",
      "54/54 [==============================] - 0s 5ms/step - loss: 0.3158 - accuracy: 0.8670 - val_loss: 0.3730 - val_accuracy: 0.8421\n",
      "Epoch 52/100\n",
      "54/54 [==============================] - 0s 5ms/step - loss: 0.3106 - accuracy: 0.8662 - val_loss: 0.3709 - val_accuracy: 0.8368\n",
      "Epoch 53/100\n",
      "54/54 [==============================] - 0s 5ms/step - loss: 0.3094 - accuracy: 0.8664 - val_loss: 0.3761 - val_accuracy: 0.8410\n",
      "Epoch 54/100\n",
      "54/54 [==============================] - 0s 5ms/step - loss: 0.3093 - accuracy: 0.8679 - val_loss: 0.3768 - val_accuracy: 0.8372\n",
      "Epoch 55/100\n",
      "54/54 [==============================] - 0s 5ms/step - loss: 0.3075 - accuracy: 0.8658 - val_loss: 0.3809 - val_accuracy: 0.8353\n",
      "Epoch 56/100\n",
      "54/54 [==============================] - 0s 5ms/step - loss: 0.3057 - accuracy: 0.8675 - val_loss: 0.3799 - val_accuracy: 0.8429\n",
      "Epoch 57/100\n",
      "54/54 [==============================] - 0s 5ms/step - loss: 0.3084 - accuracy: 0.8668 - val_loss: 0.3741 - val_accuracy: 0.8364\n",
      "Epoch 58/100\n",
      "54/54 [==============================] - 0s 5ms/step - loss: 0.3039 - accuracy: 0.8658 - val_loss: 0.3774 - val_accuracy: 0.8417\n",
      "Epoch 59/100\n",
      "54/54 [==============================] - 0s 5ms/step - loss: 0.3051 - accuracy: 0.8681 - val_loss: 0.3775 - val_accuracy: 0.8372\n",
      "Epoch 60/100\n",
      "54/54 [==============================] - 0s 5ms/step - loss: 0.3027 - accuracy: 0.8670 - val_loss: 0.3775 - val_accuracy: 0.8398\n",
      "Epoch 61/100\n",
      "54/54 [==============================] - 0s 5ms/step - loss: 0.3022 - accuracy: 0.8684 - val_loss: 0.3799 - val_accuracy: 0.8376\n",
      "Epoch 62/100\n",
      "54/54 [==============================] - 0s 5ms/step - loss: 0.3013 - accuracy: 0.8718 - val_loss: 0.3851 - val_accuracy: 0.8413\n",
      "Epoch 63/100\n",
      "54/54 [==============================] - 0s 5ms/step - loss: 0.3035 - accuracy: 0.8698 - val_loss: 0.3853 - val_accuracy: 0.8413\n",
      "Epoch 64/100\n",
      "54/54 [==============================] - 0s 5ms/step - loss: 0.3019 - accuracy: 0.8690 - val_loss: 0.3826 - val_accuracy: 0.8326\n",
      "Epoch 65/100\n",
      "54/54 [==============================] - 0s 5ms/step - loss: 0.2982 - accuracy: 0.8701 - val_loss: 0.3805 - val_accuracy: 0.8391\n",
      "Epoch 66/100\n",
      "54/54 [==============================] - 0s 5ms/step - loss: 0.2990 - accuracy: 0.8677 - val_loss: 0.3813 - val_accuracy: 0.8387\n",
      "Epoch 67/100\n",
      "54/54 [==============================] - 0s 5ms/step - loss: 0.2979 - accuracy: 0.8683 - val_loss: 0.3869 - val_accuracy: 0.8368\n",
      "Epoch 68/100\n",
      "54/54 [==============================] - 0s 5ms/step - loss: 0.2964 - accuracy: 0.8698 - val_loss: 0.3878 - val_accuracy: 0.8345\n",
      "Epoch 69/100\n",
      "54/54 [==============================] - 0s 5ms/step - loss: 0.2971 - accuracy: 0.8705 - val_loss: 0.3953 - val_accuracy: 0.8406\n",
      "Epoch 70/100\n",
      "54/54 [==============================] - 0s 5ms/step - loss: 0.2963 - accuracy: 0.8718 - val_loss: 0.3881 - val_accuracy: 0.8304\n",
      "Epoch 71/100\n",
      "54/54 [==============================] - 0s 5ms/step - loss: 0.2987 - accuracy: 0.8692 - val_loss: 0.3884 - val_accuracy: 0.8345\n",
      "Epoch 72/100\n",
      "54/54 [==============================] - 0s 5ms/step - loss: 0.2947 - accuracy: 0.8735 - val_loss: 0.3869 - val_accuracy: 0.8345\n",
      "Epoch 73/100\n",
      "54/54 [==============================] - 0s 5ms/step - loss: 0.2995 - accuracy: 0.8701 - val_loss: 0.3915 - val_accuracy: 0.8368\n",
      "Epoch 74/100\n",
      "54/54 [==============================] - 0s 5ms/step - loss: 0.2945 - accuracy: 0.8733 - val_loss: 0.3966 - val_accuracy: 0.8228\n",
      "Epoch 75/100\n",
      "54/54 [==============================] - 0s 6ms/step - loss: 0.2935 - accuracy: 0.8731 - val_loss: 0.3917 - val_accuracy: 0.8319\n",
      "Epoch 76/100\n",
      "54/54 [==============================] - 0s 5ms/step - loss: 0.2916 - accuracy: 0.8744 - val_loss: 0.3913 - val_accuracy: 0.8368\n",
      "Epoch 77/100\n",
      "54/54 [==============================] - 0s 5ms/step - loss: 0.2931 - accuracy: 0.8718 - val_loss: 0.3955 - val_accuracy: 0.8273\n",
      "Epoch 78/100\n",
      "54/54 [==============================] - 0s 5ms/step - loss: 0.2928 - accuracy: 0.8727 - val_loss: 0.3989 - val_accuracy: 0.8236\n",
      "Epoch 79/100\n",
      "54/54 [==============================] - 0s 5ms/step - loss: 0.2919 - accuracy: 0.8729 - val_loss: 0.3965 - val_accuracy: 0.8285\n",
      "Epoch 80/100\n",
      "54/54 [==============================] - 0s 5ms/step - loss: 0.2920 - accuracy: 0.8724 - val_loss: 0.3949 - val_accuracy: 0.8292\n",
      "Epoch 81/100\n",
      "54/54 [==============================] - 0s 5ms/step - loss: 0.2923 - accuracy: 0.8750 - val_loss: 0.3970 - val_accuracy: 0.8319\n",
      "Epoch 82/100\n",
      "54/54 [==============================] - 0s 5ms/step - loss: 0.2909 - accuracy: 0.8707 - val_loss: 0.3977 - val_accuracy: 0.8345\n",
      "Epoch 83/100\n",
      "54/54 [==============================] - 0s 5ms/step - loss: 0.2892 - accuracy: 0.8731 - val_loss: 0.3920 - val_accuracy: 0.8319\n",
      "Epoch 84/100\n",
      "54/54 [==============================] - 0s 5ms/step - loss: 0.2897 - accuracy: 0.8722 - val_loss: 0.4023 - val_accuracy: 0.8398\n",
      "Epoch 85/100\n",
      "54/54 [==============================] - 0s 5ms/step - loss: 0.2896 - accuracy: 0.8757 - val_loss: 0.4083 - val_accuracy: 0.8387\n",
      "Epoch 86/100\n",
      "54/54 [==============================] - 0s 5ms/step - loss: 0.2922 - accuracy: 0.8714 - val_loss: 0.4035 - val_accuracy: 0.8273\n",
      "Epoch 87/100\n",
      "54/54 [==============================] - 0s 5ms/step - loss: 0.2884 - accuracy: 0.8711 - val_loss: 0.4019 - val_accuracy: 0.8270\n",
      "Epoch 88/100\n",
      "54/54 [==============================] - 0s 5ms/step - loss: 0.2856 - accuracy: 0.8737 - val_loss: 0.4004 - val_accuracy: 0.8395\n",
      "Epoch 89/100\n",
      "54/54 [==============================] - 0s 5ms/step - loss: 0.2884 - accuracy: 0.8737 - val_loss: 0.4059 - val_accuracy: 0.8353\n",
      "Epoch 90/100\n",
      "54/54 [==============================] - 0s 5ms/step - loss: 0.2859 - accuracy: 0.8729 - val_loss: 0.4031 - val_accuracy: 0.8334\n",
      "Epoch 91/100\n",
      "54/54 [==============================] - 0s 5ms/step - loss: 0.2864 - accuracy: 0.8742 - val_loss: 0.4032 - val_accuracy: 0.8304\n",
      "Epoch 92/100\n",
      "54/54 [==============================] - 0s 5ms/step - loss: 0.2853 - accuracy: 0.8767 - val_loss: 0.4050 - val_accuracy: 0.8213\n",
      "Epoch 93/100\n",
      "54/54 [==============================] - 0s 5ms/step - loss: 0.2832 - accuracy: 0.8731 - val_loss: 0.4182 - val_accuracy: 0.8137\n",
      "Epoch 94/100\n",
      "54/54 [==============================] - 0s 5ms/step - loss: 0.2870 - accuracy: 0.8752 - val_loss: 0.4063 - val_accuracy: 0.8304\n",
      "Epoch 95/100\n",
      "54/54 [==============================] - 0s 5ms/step - loss: 0.2839 - accuracy: 0.8739 - val_loss: 0.4072 - val_accuracy: 0.8285\n",
      "Epoch 96/100\n",
      "54/54 [==============================] - 0s 5ms/step - loss: 0.2851 - accuracy: 0.8727 - val_loss: 0.4095 - val_accuracy: 0.8315\n",
      "Epoch 97/100\n",
      "54/54 [==============================] - 0s 5ms/step - loss: 0.2828 - accuracy: 0.8778 - val_loss: 0.4079 - val_accuracy: 0.8217\n",
      "Epoch 98/100\n",
      "54/54 [==============================] - 0s 5ms/step - loss: 0.2800 - accuracy: 0.8798 - val_loss: 0.4062 - val_accuracy: 0.8364\n",
      "Epoch 99/100\n",
      "54/54 [==============================] - 0s 5ms/step - loss: 0.2820 - accuracy: 0.8739 - val_loss: 0.4149 - val_accuracy: 0.8349\n",
      "Epoch 100/100\n",
      "54/54 [==============================] - 0s 5ms/step - loss: 0.2876 - accuracy: 0.8753 - val_loss: 0.4144 - val_accuracy: 0.8323\n"
     ]
    }
   ],
   "source": [
    "# Creat checkpoint to save model at the end of each epoch:\n",
    "checkpoint_cb = keras.callbacks.ModelCheckpoint(\"my_keras_model.h5\", save_best_only=True)\n",
    "\n",
    "# Creat EarlyStopping checkpoint:\n",
    "early_stopping_cb = keras.callbacks.EarlyStopping(patience=10, restore_best_weights=True)\n",
    "\n",
    "history = model.fit(X_train, y_train, validation_split=0.33, batch_size = 100, epochs = 100)"
   ]
  },
  {
   "cell_type": "code",
   "execution_count": 57,
   "id": "23b87b64",
   "metadata": {
    "execution": {
     "iopub.execute_input": "2021-10-23T00:30:25.028930Z",
     "iopub.status.busy": "2021-10-23T00:30:25.025240Z",
     "iopub.status.idle": "2021-10-23T00:30:25.304047Z",
     "shell.execute_reply": "2021-10-23T00:30:25.303423Z",
     "shell.execute_reply.started": "2021-10-23T00:26:32.664145Z"
    },
    "papermill": {
     "duration": 0.519797,
     "end_time": "2021-10-23T00:30:25.304216",
     "exception": false,
     "start_time": "2021-10-23T00:30:24.784419",
     "status": "completed"
    },
    "tags": []
   },
   "outputs": [
    {
     "data": {
      "image/png": "[encoded data removed]",
      "text/plain": [
       "<Figure size 720x360 with 1 Axes>"
      ]
     },
     "metadata": {
      "needs_background": "light"
     },
     "output_type": "display_data"
    }
   ],
   "source": [
    "learning_data = pd.DataFrame(history.history)\n",
    "learning_data.plot(figsize=(10,5))\n",
    "plt.grid(True)\n",
    "plt.show()"
   ]
  },
  {
   "cell_type": "code",
   "execution_count": 58,
   "id": "eb9264b3",
   "metadata": {
    "execution": {
     "iopub.execute_input": "2021-10-23T00:30:25.788506Z",
     "iopub.status.busy": "2021-10-23T00:30:25.787822Z",
     "iopub.status.idle": "2021-10-23T00:30:25.956900Z",
     "shell.execute_reply": "2021-10-23T00:30:25.957445Z",
     "shell.execute_reply.started": "2021-10-23T00:26:33.735862Z"
    },
    "papermill": {
     "duration": 0.414824,
     "end_time": "2021-10-23T00:30:25.957613",
     "exception": false,
     "start_time": "2021-10-23T00:30:25.542789",
     "status": "completed"
    },
    "tags": []
   },
   "outputs": [
    {
     "name": "stdout",
     "output_type": "stream",
     "text": [
      "63/63 [==============================] - 0s 2ms/step - loss: 0.4125 - accuracy: 0.8435\n"
     ]
    },
    {
     "data": {
      "text/plain": [
       "[0.4124644100666046, 0.843500018119812]"
      ]
     },
     "execution_count": 58,
     "metadata": {},
     "output_type": "execute_result"
    }
   ],
   "source": [
    "model.evaluate(X_test, y_test)"
   ]
  },
  {
   "cell_type": "code",
   "execution_count": null,
   "id": "7488fb5e",
   "metadata": {
    "papermill": {
     "duration": 0.263767,
     "end_time": "2021-10-23T00:30:26.462302",
     "exception": false,
     "start_time": "2021-10-23T00:30:26.198535",
     "status": "completed"
    },
    "tags": []
   },
   "outputs": [],
   "source": []
  },
  {
   "cell_type": "code",
   "execution_count": null,
   "id": "a8a0186f",
   "metadata": {
    "papermill": {
     "duration": 0.239619,
     "end_time": "2021-10-23T00:30:26.941687",
     "exception": false,
     "start_time": "2021-10-23T00:30:26.702068",
     "status": "completed"
    },
    "tags": []
   },
   "outputs": [],
   "source": []
  }
 ],
 "metadata": {
  "kernelspec": {
   "display_name": "Python 3",
   "language": "python",
   "name": "python3"
  },
  "language_info": {
   "codemirror_mode": {
    "name": "ipython",
    "version": 3
   },
   "file_extension": ".py",
   "mimetype": "text/x-python",
   "name": "python",
   "nbconvert_exporter": "python",
   "pygments_lexer": "ipython3",
   "version": "3.7.10"
  },
  "papermill": {
   "default_parameters": {},
   "duration": 79.768603,
   "end_time": "2021-10-23T00:30:30.703187",
   "environment_variables": {},
   "exception": null,
   "input_path": "__notebook__.ipynb",
   "output_path": "__notebook__.ipynb",
   "parameters": {},
   "start_time": "2021-10-23T00:29:10.934584",
   "version": "2.3.3"
  }
 },
 "nbformat": 4,
 "nbformat_minor": 5
}
